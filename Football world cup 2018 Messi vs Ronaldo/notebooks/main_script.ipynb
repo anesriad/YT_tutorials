{
 "cells": [
  {
   "cell_type": "code",
   "execution_count": 1,
   "metadata": {},
   "outputs": [],
   "source": [
    "import sys\n",
    "import os\n",
    "import pandas as pd\n",
    "sys.path.append(os.path.abspath(os.path.join(os.getcwd(), '..', 'src')))"
   ]
  },
  {
   "cell_type": "code",
   "execution_count": 2,
   "metadata": {},
   "outputs": [],
   "source": [
    "pd.set_option('display.max_columns', 500)\n",
    "pd.set_option('display.max_rows', 500)"
   ]
  },
  {
   "cell_type": "code",
   "execution_count": 3,
   "metadata": {},
   "outputs": [
    {
     "name": "stderr",
     "output_type": "stream",
     "text": [
      "/Users/riadanas/Desktop/Youtube tutorials/Football world cup 2018 Messi vs Ronaldo/.venv/lib/python3.10/site-packages/statsbombpy/api_client.py:21: NoAuthWarning: credentials were not supplied. open data access only\n",
      "  warnings.warn(\n"
     ]
    },
    {
     "data": {
      "text/html": [
       "<div>\n",
       "<style scoped>\n",
       "    .dataframe tbody tr th:only-of-type {\n",
       "        vertical-align: middle;\n",
       "    }\n",
       "\n",
       "    .dataframe tbody tr th {\n",
       "        vertical-align: top;\n",
       "    }\n",
       "\n",
       "    .dataframe thead th {\n",
       "        text-align: right;\n",
       "    }\n",
       "</style>\n",
       "<table border=\"1\" class=\"dataframe\">\n",
       "  <thead>\n",
       "    <tr style=\"text-align: right;\">\n",
       "      <th></th>\n",
       "      <th>competition_name</th>\n",
       "      <th>competition_id</th>\n",
       "      <th>season_name</th>\n",
       "      <th>season_id</th>\n",
       "    </tr>\n",
       "  </thead>\n",
       "  <tbody>\n",
       "    <tr>\n",
       "      <th>0</th>\n",
       "      <td>1. Bundesliga</td>\n",
       "      <td>9</td>\n",
       "      <td>2023/2024</td>\n",
       "      <td>281</td>\n",
       "    </tr>\n",
       "    <tr>\n",
       "      <th>1</th>\n",
       "      <td>1. Bundesliga</td>\n",
       "      <td>9</td>\n",
       "      <td>2015/2016</td>\n",
       "      <td>27</td>\n",
       "    </tr>\n",
       "  </tbody>\n",
       "</table>\n",
       "</div>"
      ],
      "text/plain": [
       "  competition_name  competition_id season_name  season_id\n",
       "0    1. Bundesliga               9   2023/2024        281\n",
       "1    1. Bundesliga               9   2015/2016         27"
      ]
     },
     "execution_count": 3,
     "metadata": {},
     "output_type": "execute_result"
    }
   ],
   "source": [
    "from explore_data import list_competitions, list_teams, list_players_from_teams\n",
    "\n",
    "# 1. List all competitions\n",
    "comps = list_competitions()\n",
    "comps.head(2)"
   ]
  },
  {
   "cell_type": "code",
   "execution_count": 4,
   "metadata": {},
   "outputs": [],
   "source": [
    "# 2. Choose a comp/season\n",
    "comp_id = 43  # FIFA World Cup\n",
    "season_id = 3  # 2018"
   ]
  },
  {
   "cell_type": "code",
   "execution_count": 5,
   "metadata": {},
   "outputs": [
    {
     "name": "stderr",
     "output_type": "stream",
     "text": [
      "/Users/riadanas/Desktop/Youtube tutorials/Football world cup 2018 Messi vs Ronaldo/.venv/lib/python3.10/site-packages/statsbombpy/api_client.py:21: NoAuthWarning: credentials were not supplied. open data access only\n",
      "  warnings.warn(\n"
     ]
    },
    {
     "name": "stdout",
     "output_type": "stream",
     "text": [
      "['Argentina', 'Australia', 'Belgium', 'Brazil', 'Colombia', 'Costa Rica', 'Croatia', 'Denmark', 'Egypt', 'England', 'France', 'Germany', 'Iceland', 'Iran', 'Japan', 'Mexico', 'Morocco', 'Nigeria', 'Panama', 'Peru', 'Poland', 'Portugal', 'Russia', 'Saudi Arabia', 'Senegal', 'Serbia', 'South Korea', 'Spain', 'Sweden', 'Switzerland', 'Tunisia', 'Uruguay']\n"
     ]
    }
   ],
   "source": [
    "# 3. See all teams\n",
    "teams = list_teams(comp_id, season_id)\n",
    "print(teams)"
   ]
  },
  {
   "cell_type": "code",
   "execution_count": 6,
   "metadata": {},
   "outputs": [
    {
     "name": "stderr",
     "output_type": "stream",
     "text": [
      "/Users/riadanas/Desktop/Youtube tutorials/Football world cup 2018 Messi vs Ronaldo/.venv/lib/python3.10/site-packages/statsbombpy/api_client.py:21: NoAuthWarning: credentials were not supplied. open data access only\n",
      "  warnings.warn(\n",
      "/Users/riadanas/Desktop/Youtube tutorials/Football world cup 2018 Messi vs Ronaldo/.venv/lib/python3.10/site-packages/statsbombpy/api_client.py:21: NoAuthWarning: credentials were not supplied. open data access only\n",
      "  warnings.warn(\n",
      "/Users/riadanas/Desktop/Youtube tutorials/Football world cup 2018 Messi vs Ronaldo/.venv/lib/python3.10/site-packages/statsbombpy/api_client.py:21: NoAuthWarning: credentials were not supplied. open data access only\n",
      "  warnings.warn(\n",
      "/Users/riadanas/Desktop/Youtube tutorials/Football world cup 2018 Messi vs Ronaldo/.venv/lib/python3.10/site-packages/statsbombpy/api_client.py:21: NoAuthWarning: credentials were not supplied. open data access only\n",
      "  warnings.warn(\n",
      "/Users/riadanas/Desktop/Youtube tutorials/Football world cup 2018 Messi vs Ronaldo/.venv/lib/python3.10/site-packages/statsbombpy/api_client.py:21: NoAuthWarning: credentials were not supplied. open data access only\n",
      "  warnings.warn(\n",
      "/Users/riadanas/Desktop/Youtube tutorials/Football world cup 2018 Messi vs Ronaldo/.venv/lib/python3.10/site-packages/statsbombpy/api_client.py:21: NoAuthWarning: credentials were not supplied. open data access only\n",
      "  warnings.warn(\n",
      "/Users/riadanas/Desktop/Youtube tutorials/Football world cup 2018 Messi vs Ronaldo/.venv/lib/python3.10/site-packages/statsbombpy/api_client.py:21: NoAuthWarning: credentials were not supplied. open data access only\n",
      "  warnings.warn(\n",
      "/Users/riadanas/Desktop/Youtube tutorials/Football world cup 2018 Messi vs Ronaldo/.venv/lib/python3.10/site-packages/statsbombpy/api_client.py:21: NoAuthWarning: credentials were not supplied. open data access only\n",
      "  warnings.warn(\n",
      "/Users/riadanas/Desktop/Youtube tutorials/Football world cup 2018 Messi vs Ronaldo/.venv/lib/python3.10/site-packages/statsbombpy/api_client.py:21: NoAuthWarning: credentials were not supplied. open data access only\n",
      "  warnings.warn(\n"
     ]
    },
    {
     "name": "stdout",
     "output_type": "stream",
     "text": [
      "['Achraf Hakimi Mouh', 'Adrien Sebastian Perruchet Silva', 'Ahmed Musa', 'Alex Iwobi', 'Alfreð Finnbogason', 'Alireza Jahanbakhsh', 'Alireza Safar Beiranvand', 'Andrej Kramarić', 'André Miguel Valente Silva', 'Andrés Iniesta Luján', 'Ante Rebić', 'Antoine Griezmann', 'Ari Freyr Skúlason', 'Aron Einar Gunnarsson', 'Ayoub El Kaabi', 'Benjamin Pavard', 'Bernardo Mota Veiga de Carvalho e Silva', 'Birkir Bjarnason', 'Birkir Már Sævarsson', 'Björn Bergmann Sigurðarson', 'Blaise Matuidi', 'Brian Oladapo Idowu', 'Bruno Miguel Borges Fernandes', 'Carlos Andrés Sánchez Arcosa', 'Corentin Tolisso', 'Cristhian Ricardo Stuani Curbelo', 'Cristian David Pavón', 'Cristian Gabriel Rodríguez Barrotti', 'Cristiano Ronaldo dos Santos Aveiro', 'Cédric Ricardo Alves Soares', 'Danijel Subašić', 'David Josué Jiménez Silva', 'David de Gea Quintana', 'Dejan Lovren', 'Diego Roberto Godín Leal', 'Diego Sebastián Laxalt Suárez', 'Diego da Silva Costa', 'Domagoj Vida', 'Edinson Roberto Cavani Gómez', 'Eduardo Antonio Salvio', 'Ehsan Hajsafi', 'Emil Hallfreðsson', 'Enzo Nicolás Pérez', 'Faustino Marcos Alberto Rojo', 'Fayçal Fajr', 'Federico Julián Fazio', 'Florian Thauvin', 'Francis Odinaka Uzoho', 'Francisco Román Alarcón Suárez', 'Franco Armani', 'Gabriel Iván Mercado', 'Gelson Dany Batalha Martins', 'Gerard Piqué Bernabéu', 'Gonzalo Gerardo Higuaín', 'Gonçalo Manuel Ganchinho Guedes', 'Gylfi Þór Sigurðsson', 'Hakim Ziyech', 'Hannes Þór Halldórsson', 'Hugo Lloris', 'Hörður Björgvin Magnússon', 'Iago Aspas Juncal', 'Ivan Perišić', 'Ivan Rakitić', 'Ivan Strinić', 'Javier Alejandro Mascherano', 'Johann Berg Guðmunds\\xadson', 'John Michael Nchekwube Obinna', 'Jordi Alba Ramos', 'Jorge Resurrección Merodio', 'José Ignacio Fernández Iglesias', 'José Martín Cáceres Silva', 'José María Giménez de Vargas', 'José Miguel da Rocha Fonte', 'João Filipe Iria Santos Moutinho', 'João Mário Naval da Costa Eduardo', 'Karim Ansarifard', 'Karim El Ahmadi Al Aroos', 'Kelechi Promise Iheanacho', 'Kenneth Josiah Omeruo', 'Khalid Boutaïb', 'Kléper Laveran Lima Ferreira', 'Kylian Mbappé Lottin', 'Kári Árnason', 'Leon Aderemi Balogun', 'Lionel Andrés Messi Cuccittini', 'Lucas Hernández Pi', 'Lucas Rodrigo Biglia', 'Lucas Torreira Di Pascua', 'Lucas Vázquez Iglesias', 'Luis Alberto Suárez Díaz', 'Luka Modrić', 'Manuel Henrique Tavares Fernandes', 'Manuel Marouan da Costa Trinidade', 'Marcelo Brozović', 'Marcos Javier Acuña', 'Mario Mandžukić', 'Mateo Kovačić', 'Matías Vecino Falero', 'Maximiliano Eduardo Meza', 'Mbark Boussoufa', 'Medhi Amine El Mouttaqi Benatia', 'Mehdi Carcela-González', 'Mehdi Taremi', 'Milad Mohammadi', 'Morteza Pouraliganji', 'Munir Mohand Mohamedi', \"N''Golo Kanté\", 'Nabil Dirar', 'Nabil Fekir', 'Nahitan Michel Nández Acosta', 'Nicolás Alejandro Tagliafico', 'Nicolás Hernán Otamendi', 'Nordin Amrabat', 'Néstor Fernando Muslera Micol', 'Odion Jude Ighalo', 'Oghenekaro Etebo', 'Olivier Giroud', 'Omid Ebrahimi', 'Onyinye Wilfred Ndidi', 'Paul Pogba', 'Paulo Bruno Exequiel Dybala', 'Ragnar Sigurðsson', 'Ramin Rezaeian', 'Raphaël Adelino José Guerreiro', 'Raphaël Varane', 'Ricardo Andrade Quaresma Bernardo', 'Ricardo Domingos Barbosa Pereira', 'Rodrigo Bentancur Colmán', 'Rui Pedro dos Santos Patrício', 'Rúrik Gíslason', 'Saeid Ezatolahi Afagh', 'Saman Ghoddos', 'Samuel Yves Umtiti', 'Sardar Azmoun', 'Sergio Busquets i Burgos', 'Sergio Leonel Agüero del Castillo', 'Sergio Ramos García', 'Seyed Majid Hosseini', 'Simeon Tochukwu Nwankwo', 'Thiago Alcântara do Nascimento', 'Vahid Amiri', 'Vedran Ćorluka', 'Victor Moses', 'Wilfredo Daniel Caballero', 'William Silva de Carvalho', 'William Troost-Ekong', 'Younès Belhanda', 'Ángel Fabián Di María Hernández', 'Éver Maximiliano David Banega', 'Šime Vrsaljko']\n"
     ]
    }
   ],
   "source": [
    "# 4. See all players from specific teams\n",
    "players = list_players_from_teams(comp_id, season_id, ['Argentina', 'Portugal'])\n",
    "print(players)"
   ]
  },
  {
   "cell_type": "code",
   "execution_count": 7,
   "metadata": {},
   "outputs": [
    {
     "name": "stderr",
     "output_type": "stream",
     "text": [
      "/Users/riadanas/Desktop/Youtube tutorials/Football world cup 2018 Messi vs Ronaldo/.venv/lib/python3.10/site-packages/statsbombpy/api_client.py:21: NoAuthWarning: credentials were not supplied. open data access only\n",
      "  warnings.warn(\n"
     ]
    }
   ],
   "source": [
    "from fetch_data import get_competitions, get_matches, filter_matches_by_teams\n",
    "\n",
    "comps = get_competitions()\n",
    "matches_2018 = get_matches(competition_id=43, season_id=3)\n",
    "filtered = filter_matches_by_teams(matches_2018, ['Argentina', 'Portugal'])"
   ]
  },
  {
   "cell_type": "code",
   "execution_count": 8,
   "metadata": {},
   "outputs": [
    {
     "name": "stdout",
     "output_type": "stream",
     "text": [
      "['Colombia' 'England' 'Sweden' 'Iran' 'Portugal' 'Croatia' 'Serbia'\n",
      " 'Brazil' 'Egypt' 'South Korea' 'Uruguay' 'Belgium' 'Poland' 'France'\n",
      " 'Germany' 'Tunisia' 'Nigeria' 'Australia' 'Senegal' 'Panama'\n",
      " 'Switzerland' 'Denmark' 'Costa Rica' 'Argentina' 'Iceland' 'Spain' 'Peru'\n",
      " 'Japan' 'Morocco' 'Russia' 'Mexico' 'Saudi Arabia']\n",
      "['England' 'Belgium' 'Switzerland' 'Portugal' 'Morocco' 'Panama'\n",
      " 'Costa Rica' 'Uruguay' 'Mexico' 'Saudi Arabia' 'Colombia' 'Peru'\n",
      " 'Senegal' 'South Korea' 'Spain' 'Brazil' 'Sweden' 'Argentina' 'Denmark'\n",
      " 'Iceland' 'Nigeria' 'Tunisia' 'Australia' 'Russia' 'Serbia' 'Japan'\n",
      " 'Croatia' 'France' 'Poland' 'Iran' 'Germany' 'Egypt']\n"
     ]
    }
   ],
   "source": [
    "print(matches_2018['home_team'].unique())\n",
    "print(matches_2018['away_team'].unique())"
   ]
  },
  {
   "cell_type": "code",
   "execution_count": 9,
   "metadata": {},
   "outputs": [
    {
     "name": "stderr",
     "output_type": "stream",
     "text": [
      "/Users/riadanas/Desktop/Youtube tutorials/Football world cup 2018 Messi vs Ronaldo/.venv/lib/python3.10/site-packages/statsbombpy/api_client.py:21: NoAuthWarning: credentials were not supplied. open data access only\n",
      "  warnings.warn(\n",
      "/Users/riadanas/Desktop/Youtube tutorials/Football world cup 2018 Messi vs Ronaldo/.venv/lib/python3.10/site-packages/statsbombpy/api_client.py:21: NoAuthWarning: credentials were not supplied. open data access only\n",
      "  warnings.warn(\n",
      "/Users/riadanas/Desktop/Youtube tutorials/Football world cup 2018 Messi vs Ronaldo/.venv/lib/python3.10/site-packages/statsbombpy/api_client.py:21: NoAuthWarning: credentials were not supplied. open data access only\n",
      "  warnings.warn(\n",
      "/Users/riadanas/Desktop/Youtube tutorials/Football world cup 2018 Messi vs Ronaldo/.venv/lib/python3.10/site-packages/statsbombpy/api_client.py:21: NoAuthWarning: credentials were not supplied. open data access only\n",
      "  warnings.warn(\n",
      "/Users/riadanas/Desktop/Youtube tutorials/Football world cup 2018 Messi vs Ronaldo/.venv/lib/python3.10/site-packages/statsbombpy/api_client.py:21: NoAuthWarning: credentials were not supplied. open data access only\n",
      "  warnings.warn(\n",
      "/Users/riadanas/Desktop/Youtube tutorials/Football world cup 2018 Messi vs Ronaldo/.venv/lib/python3.10/site-packages/statsbombpy/api_client.py:21: NoAuthWarning: credentials were not supplied. open data access only\n",
      "  warnings.warn(\n",
      "/Users/riadanas/Desktop/Youtube tutorials/Football world cup 2018 Messi vs Ronaldo/.venv/lib/python3.10/site-packages/statsbombpy/api_client.py:21: NoAuthWarning: credentials were not supplied. open data access only\n",
      "  warnings.warn(\n",
      "/Users/riadanas/Desktop/Youtube tutorials/Football world cup 2018 Messi vs Ronaldo/.venv/lib/python3.10/site-packages/statsbombpy/api_client.py:21: NoAuthWarning: credentials were not supplied. open data access only\n",
      "  warnings.warn(\n"
     ]
    }
   ],
   "source": [
    "from load_events import load_events_for_players\n",
    "\n",
    "match_ids = filtered['match_id'].tolist()\n",
    "player_names = ['Lionel Andrés Messi Cuccittini', 'Cristiano Ronaldo dos Santos Aveiro']\n",
    "\n",
    "events_df = load_events_for_players(match_ids, player_names)\n",
    "\n",
    "# Optionally split\n",
    "messi_df = events_df[events_df['player'] == 'Lionel Andrés Messi Cuccittini']\n",
    "ronaldo_df = events_df[events_df['player'] == 'Cristiano Ronaldo dos Santos Aveiro']"
   ]
  },
  {
   "cell_type": "code",
   "execution_count": 10,
   "metadata": {},
   "outputs": [],
   "source": [
    "from preprocess import summarize_player_stats\n",
    "\n",
    "messi_summary = summarize_player_stats(messi_df)\n",
    "ronaldo_summary = summarize_player_stats(ronaldo_df)"
   ]
  },
  {
   "cell_type": "code",
   "execution_count": 11,
   "metadata": {},
   "outputs": [
    {
     "name": "stderr",
     "output_type": "stream",
     "text": [
      "/Users/riadanas/Desktop/Youtube tutorials/Football world cup 2018 Messi vs Ronaldo/.venv/lib/python3.10/site-packages/mplsoccer/_pitch_plot.py:167: FutureWarning: \n",
      "\n",
      "`shade` is now deprecated in favor of `fill`; setting `fill=True`.\n",
      "This will become an error in seaborn v0.14.0; please update your code.\n",
      "\n",
      "  return sns.kdeplot(x=x, y=y, ax=ax, clip=self.kde_clip, **kwargs)\n",
      "/Users/riadanas/Desktop/Youtube tutorials/Football world cup 2018 Messi vs Ronaldo/.venv/lib/python3.10/site-packages/mplsoccer/_pitch_plot.py:167: FutureWarning: \n",
      "\n",
      "`shade` is now deprecated in favor of `fill`; setting `fill=True`.\n",
      "This will become an error in seaborn v0.14.0; please update your code.\n",
      "\n",
      "  return sns.kdeplot(x=x, y=y, ax=ax, clip=self.kde_clip, **kwargs)\n"
     ]
    },
    {
     "data": {
      "image/png": "[encoded data removed]",
      "text/plain": [
       "<Figure size 1336.26x600 with 4 Axes>"
      ]
     },
     "metadata": {},
     "output_type": "display_data"
    },
    {
     "data": {
      "image/png": "[encoded data removed]",
      "text/plain": [
       "<Figure size 1336.26x600 with 4 Axes>"
      ]
     },
     "metadata": {},
     "output_type": "display_data"
    }
   ],
   "source": [
    "from visualizations import plot_ball_receipt_heatmaps, plot_shot_maps\n",
    "import numpy as np\n",
    "\n",
    "# Ball Receipt Heatmaps\n",
    "messi_locations = np.array(messi_df[messi_df['type'] == 'Ball Receipt*']['location'].dropna().tolist())\n",
    "ronaldo_locations = np.array(ronaldo_df[ronaldo_df['type'] == 'Ball Receipt*']['location'].dropna().tolist())\n",
    "\n",
    "plot_ball_receipt_heatmaps(messi_locations, ronaldo_locations)\n",
    "\n",
    "# Shot Maps\n",
    "plot_shot_maps(messi_df, ronaldo_df)"
   ]
  },
  {
   "cell_type": "code",
   "execution_count": 12,
   "metadata": {},
   "outputs": [
    {
     "data": {
      "application/vnd.plotly.v1+json": {
       "config": {
        "plotlyServerURL": "https://plot.ly"
       },
       "data": [
        {
         "fill": "toself",
         "marker": {
          "color": "blue"
         },
         "name": "Messi",
         "r": [
          0.3563333333333333,
          0.6666666666666666,
          0.5199999999999999,
          0.5555555555555556,
          0.8964285714285715,
          0.825,
          0.25,
          0.25,
          0.3563333333333333
         ],
         "theta": [
          "Pass Accuracy (%)",
          "Key Passes per 90",
          "xG per Shot",
          "Shots on Target %",
          "Carries per 90",
          "Pressures per 90",
          "Goals per 90",
          "Assists per 90",
          "Pass Accuracy (%)"
         ],
         "type": "scatterpolar"
        },
        {
         "fill": "toself",
         "marker": {
          "color": "red"
         },
         "name": "Ronaldo",
         "r": [
          0.35100000000000003,
          0.3333333333333333,
          0.615,
          0.7272727272727273,
          0.4535714285714286,
          0.3875,
          1,
          0,
          0.35100000000000003
         ],
         "theta": [
          "Pass Accuracy (%)",
          "Key Passes per 90",
          "xG per Shot",
          "Shots on Target %",
          "Carries per 90",
          "Pressures per 90",
          "Goals per 90",
          "Assists per 90",
          "Pass Accuracy (%)"
         ],
         "type": "scatterpolar"
        }
       ],
       "layout": {
        "polar": {
         "radialaxis": {
          "range": [
           0,
           1
          ],
          "visible": true
         }
        },
        "showlegend": true,
        "template": {
         "data": {
          "bar": [
           {
            "error_x": {
             "color": "#2a3f5f"
            },
            "error_y": {
             "color": "#2a3f5f"
            },
            "marker": {
             "line": {
              "color": "#E5ECF6",
              "width": 0.5
             },
             "pattern": {
              "fillmode": "overlay",
              "size": 10,
              "solidity": 0.2
             }
            },
            "type": "bar"
           }
          ],
          "barpolar": [
           {
            "marker": {
             "line": {
              "color": "#E5ECF6",
              "width": 0.5
             },
             "pattern": {
              "fillmode": "overlay",
              "size": 10,
              "solidity": 0.2
             }
            },
            "type": "barpolar"
           }
          ],
          "carpet": [
           {
            "aaxis": {
             "endlinecolor": "#2a3f5f",
             "gridcolor": "white",
             "linecolor": "white",
             "minorgridcolor": "white",
             "startlinecolor": "#2a3f5f"
            },
            "baxis": {
             "endlinecolor": "#2a3f5f",
             "gridcolor": "white",
             "linecolor": "white",
             "minorgridcolor": "white",
             "startlinecolor": "#2a3f5f"
            },
            "type": "carpet"
           }
          ],
          "choropleth": [
           {
            "colorbar": {
             "outlinewidth": 0,
             "ticks": ""
            },
            "type": "choropleth"
           }
          ],
          "contour": [
           {
            "colorbar": {
             "outlinewidth": 0,
             "ticks": ""
            },
            "colorscale": [
             [
              0,
              "#0d0887"
             ],
             [
              0.1111111111111111,
              "#46039f"
             ],
             [
              0.2222222222222222,
              "#7201a8"
             ],
             [
              0.3333333333333333,
              "#9c179e"
             ],
             [
              0.4444444444444444,
              "#bd3786"
             ],
             [
              0.5555555555555556,
              "#d8576b"
             ],
             [
              0.6666666666666666,
              "#ed7953"
             ],
             [
              0.7777777777777778,
              "#fb9f3a"
             ],
             [
              0.8888888888888888,
              "#fdca26"
             ],
             [
              1,
              "#f0f921"
             ]
            ],
            "type": "contour"
           }
          ],
          "contourcarpet": [
           {
            "colorbar": {
             "outlinewidth": 0,
             "ticks": ""
            },
            "type": "contourcarpet"
           }
          ],
          "heatmap": [
           {
            "colorbar": {
             "outlinewidth": 0,
             "ticks": ""
            },
            "colorscale": [
             [
              0,
              "#0d0887"
             ],
             [
              0.1111111111111111,
              "#46039f"
             ],
             [
              0.2222222222222222,
              "#7201a8"
             ],
             [
              0.3333333333333333,
              "#9c179e"
             ],
             [
              0.4444444444444444,
              "#bd3786"
             ],
             [
              0.5555555555555556,
              "#d8576b"
             ],
             [
              0.6666666666666666,
              "#ed7953"
             ],
             [
              0.7777777777777778,
              "#fb9f3a"
             ],
             [
              0.8888888888888888,
              "#fdca26"
             ],
             [
              1,
              "#f0f921"
             ]
            ],
            "type": "heatmap"
           }
          ],
          "histogram": [
           {
            "marker": {
             "pattern": {
              "fillmode": "overlay",
              "size": 10,
              "solidity": 0.2
             }
            },
            "type": "histogram"
           }
          ],
          "histogram2d": [
           {
            "colorbar": {
             "outlinewidth": 0,
             "ticks": ""
            },
            "colorscale": [
             [
              0,
              "#0d0887"
             ],
             [
              0.1111111111111111,
              "#46039f"
             ],
             [
              0.2222222222222222,
              "#7201a8"
             ],
             [
              0.3333333333333333,
              "#9c179e"
             ],
             [
              0.4444444444444444,
              "#bd3786"
             ],
             [
              0.5555555555555556,
              "#d8576b"
             ],
             [
              0.6666666666666666,
              "#ed7953"
             ],
             [
              0.7777777777777778,
              "#fb9f3a"
             ],
             [
              0.8888888888888888,
              "#fdca26"
             ],
             [
              1,
              "#f0f921"
             ]
            ],
            "type": "histogram2d"
           }
          ],
          "histogram2dcontour": [
           {
            "colorbar": {
             "outlinewidth": 0,
             "ticks": ""
            },
            "colorscale": [
             [
              0,
              "#0d0887"
             ],
             [
              0.1111111111111111,
              "#46039f"
             ],
             [
              0.2222222222222222,
              "#7201a8"
             ],
             [
              0.3333333333333333,
              "#9c179e"
             ],
             [
              0.4444444444444444,
              "#bd3786"
             ],
             [
              0.5555555555555556,
              "#d8576b"
             ],
             [
              0.6666666666666666,
              "#ed7953"
             ],
             [
              0.7777777777777778,
              "#fb9f3a"
             ],
             [
              0.8888888888888888,
              "#fdca26"
             ],
             [
              1,
              "#f0f921"
             ]
            ],
            "type": "histogram2dcontour"
           }
          ],
          "mesh3d": [
           {
            "colorbar": {
             "outlinewidth": 0,
             "ticks": ""
            },
            "type": "mesh3d"
           }
          ],
          "parcoords": [
           {
            "line": {
             "colorbar": {
              "outlinewidth": 0,
              "ticks": ""
             }
            },
            "type": "parcoords"
           }
          ],
          "pie": [
           {
            "automargin": true,
            "type": "pie"
           }
          ],
          "scatter": [
           {
            "fillpattern": {
             "fillmode": "overlay",
             "size": 10,
             "solidity": 0.2
            },
            "type": "scatter"
           }
          ],
          "scatter3d": [
           {
            "line": {
             "colorbar": {
              "outlinewidth": 0,
              "ticks": ""
             }
            },
            "marker": {
             "colorbar": {
              "outlinewidth": 0,
              "ticks": ""
             }
            },
            "type": "scatter3d"
           }
          ],
          "scattercarpet": [
           {
            "marker": {
             "colorbar": {
              "outlinewidth": 0,
              "ticks": ""
             }
            },
            "type": "scattercarpet"
           }
          ],
          "scattergeo": [
           {
            "marker": {
             "colorbar": {
              "outlinewidth": 0,
              "ticks": ""
             }
            },
            "type": "scattergeo"
           }
          ],
          "scattergl": [
           {
            "marker": {
             "colorbar": {
              "outlinewidth": 0,
              "ticks": ""
             }
            },
            "type": "scattergl"
           }
          ],
          "scattermap": [
           {
            "marker": {
             "colorbar": {
              "outlinewidth": 0,
              "ticks": ""
             }
            },
            "type": "scattermap"
           }
          ],
          "scattermapbox": [
           {
            "marker": {
             "colorbar": {
              "outlinewidth": 0,
              "ticks": ""
             }
            },
            "type": "scattermapbox"
           }
          ],
          "scatterpolar": [
           {
            "marker": {
             "colorbar": {
              "outlinewidth": 0,
              "ticks": ""
             }
            },
            "type": "scatterpolar"
           }
          ],
          "scatterpolargl": [
           {
            "marker": {
             "colorbar": {
              "outlinewidth": 0,
              "ticks": ""
             }
            },
            "type": "scatterpolargl"
           }
          ],
          "scatterternary": [
           {
            "marker": {
             "colorbar": {
              "outlinewidth": 0,
              "ticks": ""
             }
            },
            "type": "scatterternary"
           }
          ],
          "surface": [
           {
            "colorbar": {
             "outlinewidth": 0,
             "ticks": ""
            },
            "colorscale": [
             [
              0,
              "#0d0887"
             ],
             [
              0.1111111111111111,
              "#46039f"
             ],
             [
              0.2222222222222222,
              "#7201a8"
             ],
             [
              0.3333333333333333,
              "#9c179e"
             ],
             [
              0.4444444444444444,
              "#bd3786"
             ],
             [
              0.5555555555555556,
              "#d8576b"
             ],
             [
              0.6666666666666666,
              "#ed7953"
             ],
             [
              0.7777777777777778,
              "#fb9f3a"
             ],
             [
              0.8888888888888888,
              "#fdca26"
             ],
             [
              1,
              "#f0f921"
             ]
            ],
            "type": "surface"
           }
          ],
          "table": [
           {
            "cells": {
             "fill": {
              "color": "#EBF0F8"
             },
             "line": {
              "color": "white"
             }
            },
            "header": {
             "fill": {
              "color": "#C8D4E3"
             },
             "line": {
              "color": "white"
             }
            },
            "type": "table"
           }
          ]
         },
         "layout": {
          "annotationdefaults": {
           "arrowcolor": "#2a3f5f",
           "arrowhead": 0,
           "arrowwidth": 1
          },
          "autotypenumbers": "strict",
          "coloraxis": {
           "colorbar": {
            "outlinewidth": 0,
            "ticks": ""
           }
          },
          "colorscale": {
           "diverging": [
            [
             0,
             "#8e0152"
            ],
            [
             0.1,
             "#c51b7d"
            ],
            [
             0.2,
             "#de77ae"
            ],
            [
             0.3,
             "#f1b6da"
            ],
            [
             0.4,
             "#fde0ef"
            ],
            [
             0.5,
             "#f7f7f7"
            ],
            [
             0.6,
             "#e6f5d0"
            ],
            [
             0.7,
             "#b8e186"
            ],
            [
             0.8,
             "#7fbc41"
            ],
            [
             0.9,
             "#4d9221"
            ],
            [
             1,
             "#276419"
            ]
           ],
           "sequential": [
            [
             0,
             "#0d0887"
            ],
            [
             0.1111111111111111,
             "#46039f"
            ],
            [
             0.2222222222222222,
             "#7201a8"
            ],
            [
             0.3333333333333333,
             "#9c179e"
            ],
            [
             0.4444444444444444,
             "#bd3786"
            ],
            [
             0.5555555555555556,
             "#d8576b"
            ],
            [
             0.6666666666666666,
             "#ed7953"
            ],
            [
             0.7777777777777778,
             "#fb9f3a"
            ],
            [
             0.8888888888888888,
             "#fdca26"
            ],
            [
             1,
             "#f0f921"
            ]
           ],
           "sequentialminus": [
            [
             0,
             "#0d0887"
            ],
            [
             0.1111111111111111,
             "#46039f"
            ],
            [
             0.2222222222222222,
             "#7201a8"
            ],
            [
             0.3333333333333333,
             "#9c179e"
            ],
            [
             0.4444444444444444,
             "#bd3786"
            ],
            [
             0.5555555555555556,
             "#d8576b"
            ],
            [
             0.6666666666666666,
             "#ed7953"
            ],
            [
             0.7777777777777778,
             "#fb9f3a"
            ],
            [
             0.8888888888888888,
             "#fdca26"
            ],
            [
             1,
             "#f0f921"
            ]
           ]
          },
          "colorway": [
           "#636efa",
           "#EF553B",
           "#00cc96",
           "#ab63fa",
           "#FFA15A",
           "#19d3f3",
           "#FF6692",
           "#B6E880",
           "#FF97FF",
           "#FECB52"
          ],
          "font": {
           "color": "#2a3f5f"
          },
          "geo": {
           "bgcolor": "white",
           "lakecolor": "white",
           "landcolor": "#E5ECF6",
           "showlakes": true,
           "showland": true,
           "subunitcolor": "white"
          },
          "hoverlabel": {
           "align": "left"
          },
          "hovermode": "closest",
          "mapbox": {
           "style": "light"
          },
          "paper_bgcolor": "white",
          "plot_bgcolor": "#E5ECF6",
          "polar": {
           "angularaxis": {
            "gridcolor": "white",
            "linecolor": "white",
            "ticks": ""
           },
           "bgcolor": "#E5ECF6",
           "radialaxis": {
            "gridcolor": "white",
            "linecolor": "white",
            "ticks": ""
           }
          },
          "scene": {
           "xaxis": {
            "backgroundcolor": "#E5ECF6",
            "gridcolor": "white",
            "gridwidth": 2,
            "linecolor": "white",
            "showbackground": true,
            "ticks": "",
            "zerolinecolor": "white"
           },
           "yaxis": {
            "backgroundcolor": "#E5ECF6",
            "gridcolor": "white",
            "gridwidth": 2,
            "linecolor": "white",
            "showbackground": true,
            "ticks": "",
            "zerolinecolor": "white"
           },
           "zaxis": {
            "backgroundcolor": "#E5ECF6",
            "gridcolor": "white",
            "gridwidth": 2,
            "linecolor": "white",
            "showbackground": true,
            "ticks": "",
            "zerolinecolor": "white"
           }
          },
          "shapedefaults": {
           "line": {
            "color": "#2a3f5f"
           }
          },
          "ternary": {
           "aaxis": {
            "gridcolor": "white",
            "linecolor": "white",
            "ticks": ""
           },
           "baxis": {
            "gridcolor": "white",
            "linecolor": "white",
            "ticks": ""
           },
           "bgcolor": "#E5ECF6",
           "caxis": {
            "gridcolor": "white",
            "linecolor": "white",
            "ticks": ""
           }
          },
          "title": {
           "x": 0.05
          },
          "xaxis": {
           "automargin": true,
           "gridcolor": "white",
           "linecolor": "white",
           "ticks": "",
           "title": {
            "standoff": 15
           },
           "zerolinecolor": "white",
           "zerolinewidth": 2
          },
          "yaxis": {
           "automargin": true,
           "gridcolor": "white",
           "linecolor": "white",
           "ticks": "",
           "title": {
            "standoff": 15
           },
           "zerolinecolor": "white",
           "zerolinewidth": 2
          }
         }
        },
        "title": {
         "text": "Radar Chart: Messi vs Ronaldo (Normalized)"
        }
       }
      }
     },
     "metadata": {},
     "output_type": "display_data"
    }
   ],
   "source": [
    "from radar_chart import plot_radar_chart\n",
    "\n",
    "# Make sure messi_summary and ronaldo_summary are available and you’ve calculated per 90 values\n",
    "messi_values = {\n",
    "    'Pass Accuracy (%)': messi_summary['Pass Accuracy (%)'],\n",
    "    'Key Passes per 90': messi_summary['Key Passes'] / 360 * 90,\n",
    "    'xG per Shot': messi_summary['Avg xG per Shot'],\n",
    "    'Shots on Target %': messi_summary['Shots on Target'] / messi_summary['Total Shots'] * 100,\n",
    "    'Carries per 90': messi_summary['Carries'] / 360 * 90,\n",
    "    'Pressures per 90': messi_summary['Pressures'] / 360 * 90,\n",
    "    'Goals per 90': messi_summary['Goals'] / 360 * 90,\n",
    "    'Assists per 90': messi_summary['Assists'] / 360 * 90\n",
    "}\n",
    "\n",
    "ronaldo_values = {\n",
    "    'Pass Accuracy (%)': ronaldo_summary['Pass Accuracy (%)'],\n",
    "    'Key Passes per 90': ronaldo_summary['Key Passes'] / 360 * 90,\n",
    "    'xG per Shot': ronaldo_summary['Avg xG per Shot'],\n",
    "    'Shots on Target %': ronaldo_summary['Shots on Target'] / ronaldo_summary['Total Shots'] * 100,\n",
    "    'Carries per 90': ronaldo_summary['Carries'] / 360 * 90,\n",
    "    'Pressures per 90': ronaldo_summary['Pressures'] / 360 * 90,\n",
    "    'Goals per 90': ronaldo_summary['Goals'] / 360 * 90,\n",
    "    'Assists per 90': ronaldo_summary['Assists'] / 360 * 90\n",
    "}\n",
    "\n",
    "plot_radar_chart(messi_values, ronaldo_values)\n"
   ]
  },
  {
   "cell_type": "code",
   "execution_count": null,
   "metadata": {},
   "outputs": [],
   "source": []
  }
 ],
 "metadata": {
  "kernelspec": {
   "display_name": ".venv",
   "language": "python",
   "name": "python3"
  },
  "language_info": {
   "codemirror_mode": {
    "name": "ipython",
    "version": 3
   },
   "file_extension": ".py",
   "mimetype": "text/x-python",
   "name": "python",
   "nbconvert_exporter": "python",
   "pygments_lexer": "ipython3",
   "version": "3.10.2"
  }
 },
 "nbformat": 4,
 "nbformat_minor": 2
}
