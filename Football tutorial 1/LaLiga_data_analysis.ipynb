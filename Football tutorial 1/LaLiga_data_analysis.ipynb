{
 "cells": [
  {
   "cell_type": "markdown",
   "metadata": {},
   "source": [
    "## Hyphotesis ##\n",
    "- \"Given the current state of the table and past seasons, what's the realistic probability that each team could still win?\"\n",
    "\n",
    "1. Who is most likely to win LaLiga this year based on previous 10 years?\n",
    "2. Who are the 2 teams that will most likely be relegated\n",
    "3. Who is the team that will most likely go to conference league (7th position)"
   ]
  },
  {
   "cell_type": "code",
   "execution_count": 1,
   "metadata": {},
   "outputs": [],
   "source": [
    "import pandas as pd\n",
    "\n",
    "full_data = pd.read_csv(\"la_liga_data_2014_2025.csv\")"
   ]
  },
  {
   "cell_type": "code",
   "execution_count": 2,
   "metadata": {},
   "outputs": [],
   "source": [
    "pd.set_option('display.max_columns', 500)\n",
    "pd.set_option('display.max_rows', 500)"
   ]
  },
  {
   "cell_type": "code",
   "execution_count": 3,
   "metadata": {},
   "outputs": [
    {
     "name": "stdout",
     "output_type": "stream",
     "text": [
      "(220, 21)\n"
     ]
    },
    {
     "data": {
      "text/html": [
       "<div>\n",
       "<style scoped>\n",
       "    .dataframe tbody tr th:only-of-type {\n",
       "        vertical-align: middle;\n",
       "    }\n",
       "\n",
       "    .dataframe tbody tr th {\n",
       "        vertical-align: top;\n",
       "    }\n",
       "\n",
       "    .dataframe thead th {\n",
       "        text-align: right;\n",
       "    }\n",
       "</style>\n",
       "<table border=\"1\" class=\"dataframe\">\n",
       "  <thead>\n",
       "    <tr style=\"text-align: right;\">\n",
       "      <th></th>\n",
       "      <th>rk</th>\n",
       "      <th>squad</th>\n",
       "      <th>mp</th>\n",
       "      <th>w</th>\n",
       "      <th>d</th>\n",
       "      <th>l</th>\n",
       "      <th>gf</th>\n",
       "      <th>ga</th>\n",
       "      <th>gd</th>\n",
       "      <th>pts</th>\n",
       "      <th>pts/mp</th>\n",
       "      <th>attendance</th>\n",
       "      <th>top_team_scorer</th>\n",
       "      <th>goalkeeper</th>\n",
       "      <th>notes</th>\n",
       "      <th>season</th>\n",
       "      <th>xg</th>\n",
       "      <th>xga</th>\n",
       "      <th>xgd</th>\n",
       "      <th>xgd/90</th>\n",
       "      <th>last_5</th>\n",
       "    </tr>\n",
       "  </thead>\n",
       "  <tbody>\n",
       "    <tr>\n",
       "      <th>200</th>\n",
       "      <td>1</td>\n",
       "      <td>Barcelona</td>\n",
       "      <td>27</td>\n",
       "      <td>19</td>\n",
       "      <td>3</td>\n",
       "      <td>5</td>\n",
       "      <td>75</td>\n",
       "      <td>27</td>\n",
       "      <td>48</td>\n",
       "      <td>60</td>\n",
       "      <td>2.22</td>\n",
       "      <td>45119.0</td>\n",
       "      <td>Robert Lewandowski - 22</td>\n",
       "      <td>Iñaki Peña</td>\n",
       "      <td>NaN</td>\n",
       "      <td>2024</td>\n",
       "      <td>64.9</td>\n",
       "      <td>29.9</td>\n",
       "      <td>35.0</td>\n",
       "      <td>1.30</td>\n",
       "      <td>W W W W W</td>\n",
       "    </tr>\n",
       "    <tr>\n",
       "      <th>201</th>\n",
       "      <td>2</td>\n",
       "      <td>Real Madrid</td>\n",
       "      <td>28</td>\n",
       "      <td>18</td>\n",
       "      <td>6</td>\n",
       "      <td>4</td>\n",
       "      <td>59</td>\n",
       "      <td>27</td>\n",
       "      <td>32</td>\n",
       "      <td>60</td>\n",
       "      <td>2.14</td>\n",
       "      <td>69474.0</td>\n",
       "      <td>Kylian Mbappé - 20</td>\n",
       "      <td>Thibaut Courtois</td>\n",
       "      <td>NaN</td>\n",
       "      <td>2024</td>\n",
       "      <td>53.0</td>\n",
       "      <td>28.7</td>\n",
       "      <td>24.4</td>\n",
       "      <td>0.87</td>\n",
       "      <td>D W L W W</td>\n",
       "    </tr>\n",
       "    <tr>\n",
       "      <th>202</th>\n",
       "      <td>3</td>\n",
       "      <td>Atlético Madrid</td>\n",
       "      <td>28</td>\n",
       "      <td>16</td>\n",
       "      <td>8</td>\n",
       "      <td>4</td>\n",
       "      <td>46</td>\n",
       "      <td>22</td>\n",
       "      <td>24</td>\n",
       "      <td>56</td>\n",
       "      <td>2.00</td>\n",
       "      <td>61970.0</td>\n",
       "      <td>Alexander Sørloth, Julián Álvarez - 11</td>\n",
       "      <td>Jan Oblak</td>\n",
       "      <td>NaN</td>\n",
       "      <td>2024</td>\n",
       "      <td>45.3</td>\n",
       "      <td>26.4</td>\n",
       "      <td>18.9</td>\n",
       "      <td>0.68</td>\n",
       "      <td>D W W L L</td>\n",
       "    </tr>\n",
       "    <tr>\n",
       "      <th>203</th>\n",
       "      <td>4</td>\n",
       "      <td>Athletic Club</td>\n",
       "      <td>28</td>\n",
       "      <td>14</td>\n",
       "      <td>10</td>\n",
       "      <td>4</td>\n",
       "      <td>46</td>\n",
       "      <td>24</td>\n",
       "      <td>22</td>\n",
       "      <td>52</td>\n",
       "      <td>1.86</td>\n",
       "      <td>48344.0</td>\n",
       "      <td>Oihan Sancet - 13</td>\n",
       "      <td>Julen Agirrezabala</td>\n",
       "      <td>NaN</td>\n",
       "      <td>2024</td>\n",
       "      <td>42.5</td>\n",
       "      <td>25.6</td>\n",
       "      <td>16.9</td>\n",
       "      <td>0.61</td>\n",
       "      <td>D W L D W</td>\n",
       "    </tr>\n",
       "    <tr>\n",
       "      <th>204</th>\n",
       "      <td>5</td>\n",
       "      <td>Villarreal</td>\n",
       "      <td>27</td>\n",
       "      <td>12</td>\n",
       "      <td>8</td>\n",
       "      <td>7</td>\n",
       "      <td>49</td>\n",
       "      <td>38</td>\n",
       "      <td>11</td>\n",
       "      <td>44</td>\n",
       "      <td>1.63</td>\n",
       "      <td>18544.0</td>\n",
       "      <td>Ayoze Pérez - 11</td>\n",
       "      <td>Diego Conde</td>\n",
       "      <td>NaN</td>\n",
       "      <td>2024</td>\n",
       "      <td>47.8</td>\n",
       "      <td>30.3</td>\n",
       "      <td>17.5</td>\n",
       "      <td>0.65</td>\n",
       "      <td>W D W L L</td>\n",
       "    </tr>\n",
       "    <tr>\n",
       "      <th>205</th>\n",
       "      <td>6</td>\n",
       "      <td>Betis</td>\n",
       "      <td>28</td>\n",
       "      <td>12</td>\n",
       "      <td>8</td>\n",
       "      <td>8</td>\n",
       "      <td>38</td>\n",
       "      <td>35</td>\n",
       "      <td>3</td>\n",
       "      <td>44</td>\n",
       "      <td>1.57</td>\n",
       "      <td>51110.0</td>\n",
       "      <td>Giovani Lo Celso - 7</td>\n",
       "      <td>Rui Silva</td>\n",
       "      <td>NaN</td>\n",
       "      <td>2024</td>\n",
       "      <td>43.7</td>\n",
       "      <td>35.3</td>\n",
       "      <td>8.4</td>\n",
       "      <td>0.30</td>\n",
       "      <td>W W W W W</td>\n",
       "    </tr>\n",
       "    <tr>\n",
       "      <th>206</th>\n",
       "      <td>7</td>\n",
       "      <td>Mallorca</td>\n",
       "      <td>28</td>\n",
       "      <td>11</td>\n",
       "      <td>7</td>\n",
       "      <td>10</td>\n",
       "      <td>28</td>\n",
       "      <td>34</td>\n",
       "      <td>-6</td>\n",
       "      <td>40</td>\n",
       "      <td>1.43</td>\n",
       "      <td>18781.0</td>\n",
       "      <td>Vedat Muriqi - 7</td>\n",
       "      <td>Dominik Greif</td>\n",
       "      <td>NaN</td>\n",
       "      <td>2024</td>\n",
       "      <td>32.8</td>\n",
       "      <td>30.8</td>\n",
       "      <td>2.0</td>\n",
       "      <td>0.07</td>\n",
       "      <td>W D D D W</td>\n",
       "    </tr>\n",
       "    <tr>\n",
       "      <th>207</th>\n",
       "      <td>8</td>\n",
       "      <td>Celta Vigo</td>\n",
       "      <td>28</td>\n",
       "      <td>11</td>\n",
       "      <td>6</td>\n",
       "      <td>11</td>\n",
       "      <td>41</td>\n",
       "      <td>41</td>\n",
       "      <td>0</td>\n",
       "      <td>39</td>\n",
       "      <td>1.39</td>\n",
       "      <td>22082.0</td>\n",
       "      <td>Iago Aspas - 8</td>\n",
       "      <td>Vicente Guaita</td>\n",
       "      <td>NaN</td>\n",
       "      <td>2024</td>\n",
       "      <td>38.9</td>\n",
       "      <td>30.2</td>\n",
       "      <td>8.6</td>\n",
       "      <td>0.31</td>\n",
       "      <td>D W D W W</td>\n",
       "    </tr>\n",
       "    <tr>\n",
       "      <th>208</th>\n",
       "      <td>9</td>\n",
       "      <td>Rayo Vallecano</td>\n",
       "      <td>28</td>\n",
       "      <td>9</td>\n",
       "      <td>10</td>\n",
       "      <td>9</td>\n",
       "      <td>31</td>\n",
       "      <td>31</td>\n",
       "      <td>0</td>\n",
       "      <td>37</td>\n",
       "      <td>1.32</td>\n",
       "      <td>13131.0</td>\n",
       "      <td>Jorge de Frutos - 4</td>\n",
       "      <td>Augusto Batalla</td>\n",
       "      <td>NaN</td>\n",
       "      <td>2024</td>\n",
       "      <td>34.3</td>\n",
       "      <td>32.5</td>\n",
       "      <td>1.9</td>\n",
       "      <td>0.07</td>\n",
       "      <td>L L D L D</td>\n",
       "    </tr>\n",
       "    <tr>\n",
       "      <th>209</th>\n",
       "      <td>10</td>\n",
       "      <td>Sevilla</td>\n",
       "      <td>28</td>\n",
       "      <td>9</td>\n",
       "      <td>9</td>\n",
       "      <td>10</td>\n",
       "      <td>32</td>\n",
       "      <td>37</td>\n",
       "      <td>-5</td>\n",
       "      <td>36</td>\n",
       "      <td>1.29</td>\n",
       "      <td>35768.0</td>\n",
       "      <td>Dodi Lukebakio - 11</td>\n",
       "      <td>Ørjan Nyland</td>\n",
       "      <td>NaN</td>\n",
       "      <td>2024</td>\n",
       "      <td>29.4</td>\n",
       "      <td>37.3</td>\n",
       "      <td>-8.0</td>\n",
       "      <td>-0.28</td>\n",
       "      <td>W D D W L</td>\n",
       "    </tr>\n",
       "    <tr>\n",
       "      <th>210</th>\n",
       "      <td>11</td>\n",
       "      <td>Getafe</td>\n",
       "      <td>28</td>\n",
       "      <td>9</td>\n",
       "      <td>9</td>\n",
       "      <td>10</td>\n",
       "      <td>25</td>\n",
       "      <td>23</td>\n",
       "      <td>2</td>\n",
       "      <td>36</td>\n",
       "      <td>1.29</td>\n",
       "      <td>11323.0</td>\n",
       "      <td>Mauro Arambarri - 8</td>\n",
       "      <td>David Soria</td>\n",
       "      <td>NaN</td>\n",
       "      <td>2024</td>\n",
       "      <td>25.8</td>\n",
       "      <td>34.1</td>\n",
       "      <td>-8.3</td>\n",
       "      <td>-0.30</td>\n",
       "      <td>W L L W W</td>\n",
       "    </tr>\n",
       "    <tr>\n",
       "      <th>211</th>\n",
       "      <td>12</td>\n",
       "      <td>Real Sociedad</td>\n",
       "      <td>28</td>\n",
       "      <td>10</td>\n",
       "      <td>5</td>\n",
       "      <td>13</td>\n",
       "      <td>25</td>\n",
       "      <td>30</td>\n",
       "      <td>-5</td>\n",
       "      <td>35</td>\n",
       "      <td>1.25</td>\n",
       "      <td>30060.0</td>\n",
       "      <td>Takefusa Kubo - 5</td>\n",
       "      <td>Álex Remiro</td>\n",
       "      <td>NaN</td>\n",
       "      <td>2024</td>\n",
       "      <td>30.1</td>\n",
       "      <td>30.5</td>\n",
       "      <td>-0.3</td>\n",
       "      <td>-0.01</td>\n",
       "      <td>L W L L D</td>\n",
       "    </tr>\n",
       "    <tr>\n",
       "      <th>212</th>\n",
       "      <td>13</td>\n",
       "      <td>Girona</td>\n",
       "      <td>28</td>\n",
       "      <td>9</td>\n",
       "      <td>7</td>\n",
       "      <td>12</td>\n",
       "      <td>36</td>\n",
       "      <td>41</td>\n",
       "      <td>-5</td>\n",
       "      <td>34</td>\n",
       "      <td>1.21</td>\n",
       "      <td>11878.0</td>\n",
       "      <td>Cristhian Stuani - 6</td>\n",
       "      <td>Paulo Gazzaniga</td>\n",
       "      <td>NaN</td>\n",
       "      <td>2024</td>\n",
       "      <td>32.7</td>\n",
       "      <td>35.5</td>\n",
       "      <td>-2.8</td>\n",
       "      <td>-0.10</td>\n",
       "      <td>L L D D D</td>\n",
       "    </tr>\n",
       "    <tr>\n",
       "      <th>213</th>\n",
       "      <td>14</td>\n",
       "      <td>Osasuna</td>\n",
       "      <td>27</td>\n",
       "      <td>7</td>\n",
       "      <td>12</td>\n",
       "      <td>8</td>\n",
       "      <td>33</td>\n",
       "      <td>39</td>\n",
       "      <td>-6</td>\n",
       "      <td>33</td>\n",
       "      <td>1.22</td>\n",
       "      <td>20452.0</td>\n",
       "      <td>Ante Budimir - 15</td>\n",
       "      <td>Sergio Herrera</td>\n",
       "      <td>NaN</td>\n",
       "      <td>2024</td>\n",
       "      <td>30.1</td>\n",
       "      <td>37.0</td>\n",
       "      <td>-6.9</td>\n",
       "      <td>-0.26</td>\n",
       "      <td>D D L D L</td>\n",
       "    </tr>\n",
       "    <tr>\n",
       "      <th>214</th>\n",
       "      <td>15</td>\n",
       "      <td>Espanyol</td>\n",
       "      <td>27</td>\n",
       "      <td>7</td>\n",
       "      <td>7</td>\n",
       "      <td>13</td>\n",
       "      <td>26</td>\n",
       "      <td>39</td>\n",
       "      <td>-13</td>\n",
       "      <td>28</td>\n",
       "      <td>1.04</td>\n",
       "      <td>23977.0</td>\n",
       "      <td>Javi Puado - 8</td>\n",
       "      <td>Joan García</td>\n",
       "      <td>NaN</td>\n",
       "      <td>2024</td>\n",
       "      <td>20.8</td>\n",
       "      <td>43.6</td>\n",
       "      <td>-22.8</td>\n",
       "      <td>-0.85</td>\n",
       "      <td>L D W D L</td>\n",
       "    </tr>\n",
       "    <tr>\n",
       "      <th>215</th>\n",
       "      <td>16</td>\n",
       "      <td>Valencia</td>\n",
       "      <td>28</td>\n",
       "      <td>6</td>\n",
       "      <td>10</td>\n",
       "      <td>12</td>\n",
       "      <td>31</td>\n",
       "      <td>46</td>\n",
       "      <td>-15</td>\n",
       "      <td>28</td>\n",
       "      <td>1.00</td>\n",
       "      <td>42618.0</td>\n",
       "      <td>Hugo Duro - 7</td>\n",
       "      <td>Giorgi Mamardashvili</td>\n",
       "      <td>NaN</td>\n",
       "      <td>2024</td>\n",
       "      <td>31.5</td>\n",
       "      <td>40.3</td>\n",
       "      <td>-8.8</td>\n",
       "      <td>-0.31</td>\n",
       "      <td>D L D W D</td>\n",
       "    </tr>\n",
       "    <tr>\n",
       "      <th>216</th>\n",
       "      <td>17</td>\n",
       "      <td>Alavés</td>\n",
       "      <td>28</td>\n",
       "      <td>6</td>\n",
       "      <td>9</td>\n",
       "      <td>13</td>\n",
       "      <td>32</td>\n",
       "      <td>42</td>\n",
       "      <td>-10</td>\n",
       "      <td>27</td>\n",
       "      <td>0.96</td>\n",
       "      <td>16862.0</td>\n",
       "      <td>Kiké - 11</td>\n",
       "      <td>Antonio Sivera</td>\n",
       "      <td>NaN</td>\n",
       "      <td>2024</td>\n",
       "      <td>32.4</td>\n",
       "      <td>35.9</td>\n",
       "      <td>-3.5</td>\n",
       "      <td>-0.12</td>\n",
       "      <td>D L D W D</td>\n",
       "    </tr>\n",
       "    <tr>\n",
       "      <th>217</th>\n",
       "      <td>18</td>\n",
       "      <td>Leganés</td>\n",
       "      <td>28</td>\n",
       "      <td>6</td>\n",
       "      <td>9</td>\n",
       "      <td>13</td>\n",
       "      <td>26</td>\n",
       "      <td>43</td>\n",
       "      <td>-17</td>\n",
       "      <td>27</td>\n",
       "      <td>0.96</td>\n",
       "      <td>10964.0</td>\n",
       "      <td>Dani Raba - 5</td>\n",
       "      <td>Marko Dmitrović</td>\n",
       "      <td>NaN</td>\n",
       "      <td>2024</td>\n",
       "      <td>23.3</td>\n",
       "      <td>45.1</td>\n",
       "      <td>-21.9</td>\n",
       "      <td>-0.78</td>\n",
       "      <td>D L W L L</td>\n",
       "    </tr>\n",
       "    <tr>\n",
       "      <th>218</th>\n",
       "      <td>19</td>\n",
       "      <td>Las Palmas</td>\n",
       "      <td>28</td>\n",
       "      <td>6</td>\n",
       "      <td>7</td>\n",
       "      <td>15</td>\n",
       "      <td>32</td>\n",
       "      <td>47</td>\n",
       "      <td>-15</td>\n",
       "      <td>25</td>\n",
       "      <td>0.89</td>\n",
       "      <td>23616.0</td>\n",
       "      <td>Sandro Ramírez, Fábio Silva - 8</td>\n",
       "      <td>Jasper Cillessen</td>\n",
       "      <td>NaN</td>\n",
       "      <td>2024</td>\n",
       "      <td>27.2</td>\n",
       "      <td>51.8</td>\n",
       "      <td>-24.6</td>\n",
       "      <td>-0.88</td>\n",
       "      <td>L L D L D</td>\n",
       "    </tr>\n",
       "    <tr>\n",
       "      <th>219</th>\n",
       "      <td>20</td>\n",
       "      <td>Valladolid</td>\n",
       "      <td>28</td>\n",
       "      <td>4</td>\n",
       "      <td>4</td>\n",
       "      <td>20</td>\n",
       "      <td>18</td>\n",
       "      <td>63</td>\n",
       "      <td>-45</td>\n",
       "      <td>16</td>\n",
       "      <td>0.57</td>\n",
       "      <td>21121.0</td>\n",
       "      <td>Mamadou Sylla, Selim Amallah... - 3</td>\n",
       "      <td>Karl Jakob Hein</td>\n",
       "      <td>NaN</td>\n",
       "      <td>2024</td>\n",
       "      <td>23.9</td>\n",
       "      <td>49.6</td>\n",
       "      <td>-25.7</td>\n",
       "      <td>-0.92</td>\n",
       "      <td>L L D L L</td>\n",
       "    </tr>\n",
       "  </tbody>\n",
       "</table>\n",
       "</div>"
      ],
      "text/plain": [
       "     rk            squad  mp   w   d   l  gf  ga  gd  pts  pts/mp  attendance  \\\n",
       "200   1        Barcelona  27  19   3   5  75  27  48   60    2.22     45119.0   \n",
       "201   2      Real Madrid  28  18   6   4  59  27  32   60    2.14     69474.0   \n",
       "202   3  Atlético Madrid  28  16   8   4  46  22  24   56    2.00     61970.0   \n",
       "203   4    Athletic Club  28  14  10   4  46  24  22   52    1.86     48344.0   \n",
       "204   5       Villarreal  27  12   8   7  49  38  11   44    1.63     18544.0   \n",
       "205   6            Betis  28  12   8   8  38  35   3   44    1.57     51110.0   \n",
       "206   7         Mallorca  28  11   7  10  28  34  -6   40    1.43     18781.0   \n",
       "207   8       Celta Vigo  28  11   6  11  41  41   0   39    1.39     22082.0   \n",
       "208   9   Rayo Vallecano  28   9  10   9  31  31   0   37    1.32     13131.0   \n",
       "209  10          Sevilla  28   9   9  10  32  37  -5   36    1.29     35768.0   \n",
       "210  11           Getafe  28   9   9  10  25  23   2   36    1.29     11323.0   \n",
       "211  12    Real Sociedad  28  10   5  13  25  30  -5   35    1.25     30060.0   \n",
       "212  13           Girona  28   9   7  12  36  41  -5   34    1.21     11878.0   \n",
       "213  14          Osasuna  27   7  12   8  33  39  -6   33    1.22     20452.0   \n",
       "214  15         Espanyol  27   7   7  13  26  39 -13   28    1.04     23977.0   \n",
       "215  16         Valencia  28   6  10  12  31  46 -15   28    1.00     42618.0   \n",
       "216  17           Alavés  28   6   9  13  32  42 -10   27    0.96     16862.0   \n",
       "217  18          Leganés  28   6   9  13  26  43 -17   27    0.96     10964.0   \n",
       "218  19       Las Palmas  28   6   7  15  32  47 -15   25    0.89     23616.0   \n",
       "219  20       Valladolid  28   4   4  20  18  63 -45   16    0.57     21121.0   \n",
       "\n",
       "                            top_team_scorer            goalkeeper notes  \\\n",
       "200                 Robert Lewandowski - 22            Iñaki Peña   NaN   \n",
       "201                      Kylian Mbappé - 20      Thibaut Courtois   NaN   \n",
       "202  Alexander Sørloth, Julián Álvarez - 11             Jan Oblak   NaN   \n",
       "203                       Oihan Sancet - 13    Julen Agirrezabala   NaN   \n",
       "204                        Ayoze Pérez - 11           Diego Conde   NaN   \n",
       "205                    Giovani Lo Celso - 7             Rui Silva   NaN   \n",
       "206                        Vedat Muriqi - 7         Dominik Greif   NaN   \n",
       "207                          Iago Aspas - 8        Vicente Guaita   NaN   \n",
       "208                     Jorge de Frutos - 4       Augusto Batalla   NaN   \n",
       "209                     Dodi Lukebakio - 11          Ørjan Nyland   NaN   \n",
       "210                     Mauro Arambarri - 8           David Soria   NaN   \n",
       "211                       Takefusa Kubo - 5           Álex Remiro   NaN   \n",
       "212                    Cristhian Stuani - 6       Paulo Gazzaniga   NaN   \n",
       "213                       Ante Budimir - 15        Sergio Herrera   NaN   \n",
       "214                          Javi Puado - 8           Joan García   NaN   \n",
       "215                           Hugo Duro - 7  Giorgi Mamardashvili   NaN   \n",
       "216                               Kiké - 11        Antonio Sivera   NaN   \n",
       "217                           Dani Raba - 5       Marko Dmitrović   NaN   \n",
       "218         Sandro Ramírez, Fábio Silva - 8      Jasper Cillessen   NaN   \n",
       "219     Mamadou Sylla, Selim Amallah... - 3       Karl Jakob Hein   NaN   \n",
       "\n",
       "     season    xg   xga   xgd  xgd/90     last_5  \n",
       "200    2024  64.9  29.9  35.0    1.30  W W W W W  \n",
       "201    2024  53.0  28.7  24.4    0.87  D W L W W  \n",
       "202    2024  45.3  26.4  18.9    0.68  D W W L L  \n",
       "203    2024  42.5  25.6  16.9    0.61  D W L D W  \n",
       "204    2024  47.8  30.3  17.5    0.65  W D W L L  \n",
       "205    2024  43.7  35.3   8.4    0.30  W W W W W  \n",
       "206    2024  32.8  30.8   2.0    0.07  W D D D W  \n",
       "207    2024  38.9  30.2   8.6    0.31  D W D W W  \n",
       "208    2024  34.3  32.5   1.9    0.07  L L D L D  \n",
       "209    2024  29.4  37.3  -8.0   -0.28  W D D W L  \n",
       "210    2024  25.8  34.1  -8.3   -0.30  W L L W W  \n",
       "211    2024  30.1  30.5  -0.3   -0.01  L W L L D  \n",
       "212    2024  32.7  35.5  -2.8   -0.10  L L D D D  \n",
       "213    2024  30.1  37.0  -6.9   -0.26  D D L D L  \n",
       "214    2024  20.8  43.6 -22.8   -0.85  L D W D L  \n",
       "215    2024  31.5  40.3  -8.8   -0.31  D L D W D  \n",
       "216    2024  32.4  35.9  -3.5   -0.12  D L D W D  \n",
       "217    2024  23.3  45.1 -21.9   -0.78  D L W L L  \n",
       "218    2024  27.2  51.8 -24.6   -0.88  L L D L D  \n",
       "219    2024  23.9  49.6 -25.7   -0.92  L L D L L  "
      ]
     },
     "execution_count": 3,
     "metadata": {},
     "output_type": "execute_result"
    }
   ],
   "source": [
    "print(full_data.shape)\n",
    "full_data.tail(20)"
   ]
  },
  {
   "cell_type": "markdown",
   "metadata": {},
   "source": [
    "## Data Exploration"
   ]
  },
  {
   "cell_type": "code",
   "execution_count": 4,
   "metadata": {},
   "outputs": [
    {
     "data": {
      "text/plain": [
       "squad\n",
       "Barcelona          11\n",
       "Villarreal         11\n",
       "Real Madrid        11\n",
       "Celta Vigo         11\n",
       "Athletic Club      11\n",
       "Real Sociedad      11\n",
       "Sevilla            11\n",
       "Valencia           11\n",
       "Atlético Madrid    11\n",
       "Betis              10\n",
       "Getafe             10\n",
       "Espanyol            9\n",
       "Alavés              8\n",
       "Levante             7\n",
       "Rayo Vallecano      7\n",
       "Granada             7\n",
       "Eibar               7\n",
       "Osasuna             7\n",
       "Valladolid          5\n",
       "Girona              5\n",
       "Mallorca            5\n",
       "Las Palmas          5\n",
       "Leganés             5\n",
       "La Coruña           4\n",
       "Elche               4\n",
       "Málaga              4\n",
       "Cádiz               4\n",
       "Almería             3\n",
       "Sporting Gijón      2\n",
       "Huesca              2\n",
       "Córdoba             1\n",
       "Name: count, dtype: int64"
      ]
     },
     "execution_count": 4,
     "metadata": {},
     "output_type": "execute_result"
    }
   ],
   "source": [
    "# number of appearances for the past 11 seasons \n",
    "# if below 11 then the team was relegated at some point\n",
    "full_data['squad'].value_counts()"
   ]
  },
  {
   "cell_type": "code",
   "execution_count": 5,
   "metadata": {},
   "outputs": [
    {
     "data": {
      "text/plain": [
       "rk  squad          \n",
       "1   Barcelona          6\n",
       "    Real Madrid        4\n",
       "    Atlético Madrid    1\n",
       "2   Real Madrid        5\n",
       "    Barcelona          4\n",
       "    Atlético Madrid    2\n",
       "3   Atlético Madrid    7\n",
       "    Real Madrid        2\n",
       "    Girona             1\n",
       "    Barcelona          1\n",
       "Name: count, dtype: int64"
      ]
     },
     "execution_count": 5,
     "metadata": {},
     "output_type": "execute_result"
    }
   ],
   "source": [
    "# Top 3 ranking count per team\n",
    "full_data['squad'].groupby(full_data['rk']).value_counts().head(10)"
   ]
  },
  {
   "cell_type": "code",
   "execution_count": 6,
   "metadata": {},
   "outputs": [
    {
     "data": {
      "application/vnd.plotly.v1+json": {
       "config": {
        "plotlyServerURL": "https://plot.ly"
       },
       "data": [
        {
         "alignmentgroup": "True",
         "hovertemplate": "Team=%{x}<br>Finish Count=%{y}<br>Rank=%{marker.color}<extra></extra>",
         "legendgroup": "",
         "marker": {
          "color": [
           1,
           1,
           1,
           2,
           2,
           2,
           3,
           3,
           3,
           3
          ],
          "coloraxis": "coloraxis",
          "pattern": {
           "shape": ""
          }
         },
         "name": "",
         "offsetgroup": "",
         "orientation": "v",
         "showlegend": false,
         "textposition": "auto",
         "type": "bar",
         "x": [
          "Barcelona",
          "Real Madrid",
          "Atlético Madrid",
          "Real Madrid",
          "Barcelona",
          "Atlético Madrid",
          "Atlético Madrid",
          "Real Madrid",
          "Girona",
          "Barcelona"
         ],
         "xaxis": "x",
         "y": [
          6,
          4,
          1,
          5,
          4,
          2,
          7,
          2,
          1,
          1
         ],
         "yaxis": "y"
        }
       ],
       "layout": {
        "barmode": "group",
        "coloraxis": {
         "colorbar": {
          "title": {
           "text": "Rank"
          }
         },
         "colorscale": [
          [
           0,
           "#0d0887"
          ],
          [
           0.1111111111111111,
           "#46039f"
          ],
          [
           0.2222222222222222,
           "#7201a8"
          ],
          [
           0.3333333333333333,
           "#9c179e"
          ],
          [
           0.4444444444444444,
           "#bd3786"
          ],
          [
           0.5555555555555556,
           "#d8576b"
          ],
          [
           0.6666666666666666,
           "#ed7953"
          ],
          [
           0.7777777777777778,
           "#fb9f3a"
          ],
          [
           0.8888888888888888,
           "#fdca26"
          ],
          [
           1,
           "#f0f921"
          ]
         ]
        },
        "legend": {
         "tracegroupgap": 0
        },
        "template": {
         "data": {
          "bar": [
           {
            "error_x": {
             "color": "#2a3f5f"
            },
            "error_y": {
             "color": "#2a3f5f"
            },
            "marker": {
             "line": {
              "color": "#E5ECF6",
              "width": 0.5
             },
             "pattern": {
              "fillmode": "overlay",
              "size": 10,
              "solidity": 0.2
             }
            },
            "type": "bar"
           }
          ],
          "barpolar": [
           {
            "marker": {
             "line": {
              "color": "#E5ECF6",
              "width": 0.5
             },
             "pattern": {
              "fillmode": "overlay",
              "size": 10,
              "solidity": 0.2
             }
            },
            "type": "barpolar"
           }
          ],
          "carpet": [
           {
            "aaxis": {
             "endlinecolor": "#2a3f5f",
             "gridcolor": "white",
             "linecolor": "white",
             "minorgridcolor": "white",
             "startlinecolor": "#2a3f5f"
            },
            "baxis": {
             "endlinecolor": "#2a3f5f",
             "gridcolor": "white",
             "linecolor": "white",
             "minorgridcolor": "white",
             "startlinecolor": "#2a3f5f"
            },
            "type": "carpet"
           }
          ],
          "choropleth": [
           {
            "colorbar": {
             "outlinewidth": 0,
             "ticks": ""
            },
            "type": "choropleth"
           }
          ],
          "contour": [
           {
            "colorbar": {
             "outlinewidth": 0,
             "ticks": ""
            },
            "colorscale": [
             [
              0,
              "#0d0887"
             ],
             [
              0.1111111111111111,
              "#46039f"
             ],
             [
              0.2222222222222222,
              "#7201a8"
             ],
             [
              0.3333333333333333,
              "#9c179e"
             ],
             [
              0.4444444444444444,
              "#bd3786"
             ],
             [
              0.5555555555555556,
              "#d8576b"
             ],
             [
              0.6666666666666666,
              "#ed7953"
             ],
             [
              0.7777777777777778,
              "#fb9f3a"
             ],
             [
              0.8888888888888888,
              "#fdca26"
             ],
             [
              1,
              "#f0f921"
             ]
            ],
            "type": "contour"
           }
          ],
          "contourcarpet": [
           {
            "colorbar": {
             "outlinewidth": 0,
             "ticks": ""
            },
            "type": "contourcarpet"
           }
          ],
          "heatmap": [
           {
            "colorbar": {
             "outlinewidth": 0,
             "ticks": ""
            },
            "colorscale": [
             [
              0,
              "#0d0887"
             ],
             [
              0.1111111111111111,
              "#46039f"
             ],
             [
              0.2222222222222222,
              "#7201a8"
             ],
             [
              0.3333333333333333,
              "#9c179e"
             ],
             [
              0.4444444444444444,
              "#bd3786"
             ],
             [
              0.5555555555555556,
              "#d8576b"
             ],
             [
              0.6666666666666666,
              "#ed7953"
             ],
             [
              0.7777777777777778,
              "#fb9f3a"
             ],
             [
              0.8888888888888888,
              "#fdca26"
             ],
             [
              1,
              "#f0f921"
             ]
            ],
            "type": "heatmap"
           }
          ],
          "heatmapgl": [
           {
            "colorbar": {
             "outlinewidth": 0,
             "ticks": ""
            },
            "colorscale": [
             [
              0,
              "#0d0887"
             ],
             [
              0.1111111111111111,
              "#46039f"
             ],
             [
              0.2222222222222222,
              "#7201a8"
             ],
             [
              0.3333333333333333,
              "#9c179e"
             ],
             [
              0.4444444444444444,
              "#bd3786"
             ],
             [
              0.5555555555555556,
              "#d8576b"
             ],
             [
              0.6666666666666666,
              "#ed7953"
             ],
             [
              0.7777777777777778,
              "#fb9f3a"
             ],
             [
              0.8888888888888888,
              "#fdca26"
             ],
             [
              1,
              "#f0f921"
             ]
            ],
            "type": "heatmapgl"
           }
          ],
          "histogram": [
           {
            "marker": {
             "pattern": {
              "fillmode": "overlay",
              "size": 10,
              "solidity": 0.2
             }
            },
            "type": "histogram"
           }
          ],
          "histogram2d": [
           {
            "colorbar": {
             "outlinewidth": 0,
             "ticks": ""
            },
            "colorscale": [
             [
              0,
              "#0d0887"
             ],
             [
              0.1111111111111111,
              "#46039f"
             ],
             [
              0.2222222222222222,
              "#7201a8"
             ],
             [
              0.3333333333333333,
              "#9c179e"
             ],
             [
              0.4444444444444444,
              "#bd3786"
             ],
             [
              0.5555555555555556,
              "#d8576b"
             ],
             [
              0.6666666666666666,
              "#ed7953"
             ],
             [
              0.7777777777777778,
              "#fb9f3a"
             ],
             [
              0.8888888888888888,
              "#fdca26"
             ],
             [
              1,
              "#f0f921"
             ]
            ],
            "type": "histogram2d"
           }
          ],
          "histogram2dcontour": [
           {
            "colorbar": {
             "outlinewidth": 0,
             "ticks": ""
            },
            "colorscale": [
             [
              0,
              "#0d0887"
             ],
             [
              0.1111111111111111,
              "#46039f"
             ],
             [
              0.2222222222222222,
              "#7201a8"
             ],
             [
              0.3333333333333333,
              "#9c179e"
             ],
             [
              0.4444444444444444,
              "#bd3786"
             ],
             [
              0.5555555555555556,
              "#d8576b"
             ],
             [
              0.6666666666666666,
              "#ed7953"
             ],
             [
              0.7777777777777778,
              "#fb9f3a"
             ],
             [
              0.8888888888888888,
              "#fdca26"
             ],
             [
              1,
              "#f0f921"
             ]
            ],
            "type": "histogram2dcontour"
           }
          ],
          "mesh3d": [
           {
            "colorbar": {
             "outlinewidth": 0,
             "ticks": ""
            },
            "type": "mesh3d"
           }
          ],
          "parcoords": [
           {
            "line": {
             "colorbar": {
              "outlinewidth": 0,
              "ticks": ""
             }
            },
            "type": "parcoords"
           }
          ],
          "pie": [
           {
            "automargin": true,
            "type": "pie"
           }
          ],
          "scatter": [
           {
            "fillpattern": {
             "fillmode": "overlay",
             "size": 10,
             "solidity": 0.2
            },
            "type": "scatter"
           }
          ],
          "scatter3d": [
           {
            "line": {
             "colorbar": {
              "outlinewidth": 0,
              "ticks": ""
             }
            },
            "marker": {
             "colorbar": {
              "outlinewidth": 0,
              "ticks": ""
             }
            },
            "type": "scatter3d"
           }
          ],
          "scattercarpet": [
           {
            "marker": {
             "colorbar": {
              "outlinewidth": 0,
              "ticks": ""
             }
            },
            "type": "scattercarpet"
           }
          ],
          "scattergeo": [
           {
            "marker": {
             "colorbar": {
              "outlinewidth": 0,
              "ticks": ""
             }
            },
            "type": "scattergeo"
           }
          ],
          "scattergl": [
           {
            "marker": {
             "colorbar": {
              "outlinewidth": 0,
              "ticks": ""
             }
            },
            "type": "scattergl"
           }
          ],
          "scattermapbox": [
           {
            "marker": {
             "colorbar": {
              "outlinewidth": 0,
              "ticks": ""
             }
            },
            "type": "scattermapbox"
           }
          ],
          "scatterpolar": [
           {
            "marker": {
             "colorbar": {
              "outlinewidth": 0,
              "ticks": ""
             }
            },
            "type": "scatterpolar"
           }
          ],
          "scatterpolargl": [
           {
            "marker": {
             "colorbar": {
              "outlinewidth": 0,
              "ticks": ""
             }
            },
            "type": "scatterpolargl"
           }
          ],
          "scatterternary": [
           {
            "marker": {
             "colorbar": {
              "outlinewidth": 0,
              "ticks": ""
             }
            },
            "type": "scatterternary"
           }
          ],
          "surface": [
           {
            "colorbar": {
             "outlinewidth": 0,
             "ticks": ""
            },
            "colorscale": [
             [
              0,
              "#0d0887"
             ],
             [
              0.1111111111111111,
              "#46039f"
             ],
             [
              0.2222222222222222,
              "#7201a8"
             ],
             [
              0.3333333333333333,
              "#9c179e"
             ],
             [
              0.4444444444444444,
              "#bd3786"
             ],
             [
              0.5555555555555556,
              "#d8576b"
             ],
             [
              0.6666666666666666,
              "#ed7953"
             ],
             [
              0.7777777777777778,
              "#fb9f3a"
             ],
             [
              0.8888888888888888,
              "#fdca26"
             ],
             [
              1,
              "#f0f921"
             ]
            ],
            "type": "surface"
           }
          ],
          "table": [
           {
            "cells": {
             "fill": {
              "color": "#EBF0F8"
             },
             "line": {
              "color": "white"
             }
            },
            "header": {
             "fill": {
              "color": "#C8D4E3"
             },
             "line": {
              "color": "white"
             }
            },
            "type": "table"
           }
          ]
         },
         "layout": {
          "annotationdefaults": {
           "arrowcolor": "#2a3f5f",
           "arrowhead": 0,
           "arrowwidth": 1
          },
          "autotypenumbers": "strict",
          "coloraxis": {
           "colorbar": {
            "outlinewidth": 0,
            "ticks": ""
           }
          },
          "colorscale": {
           "diverging": [
            [
             0,
             "#8e0152"
            ],
            [
             0.1,
             "#c51b7d"
            ],
            [
             0.2,
             "#de77ae"
            ],
            [
             0.3,
             "#f1b6da"
            ],
            [
             0.4,
             "#fde0ef"
            ],
            [
             0.5,
             "#f7f7f7"
            ],
            [
             0.6,
             "#e6f5d0"
            ],
            [
             0.7,
             "#b8e186"
            ],
            [
             0.8,
             "#7fbc41"
            ],
            [
             0.9,
             "#4d9221"
            ],
            [
             1,
             "#276419"
            ]
           ],
           "sequential": [
            [
             0,
             "#0d0887"
            ],
            [
             0.1111111111111111,
             "#46039f"
            ],
            [
             0.2222222222222222,
             "#7201a8"
            ],
            [
             0.3333333333333333,
             "#9c179e"
            ],
            [
             0.4444444444444444,
             "#bd3786"
            ],
            [
             0.5555555555555556,
             "#d8576b"
            ],
            [
             0.6666666666666666,
             "#ed7953"
            ],
            [
             0.7777777777777778,
             "#fb9f3a"
            ],
            [
             0.8888888888888888,
             "#fdca26"
            ],
            [
             1,
             "#f0f921"
            ]
           ],
           "sequentialminus": [
            [
             0,
             "#0d0887"
            ],
            [
             0.1111111111111111,
             "#46039f"
            ],
            [
             0.2222222222222222,
             "#7201a8"
            ],
            [
             0.3333333333333333,
             "#9c179e"
            ],
            [
             0.4444444444444444,
             "#bd3786"
            ],
            [
             0.5555555555555556,
             "#d8576b"
            ],
            [
             0.6666666666666666,
             "#ed7953"
            ],
            [
             0.7777777777777778,
             "#fb9f3a"
            ],
            [
             0.8888888888888888,
             "#fdca26"
            ],
            [
             1,
             "#f0f921"
            ]
           ]
          },
          "colorway": [
           "#636efa",
           "#EF553B",
           "#00cc96",
           "#ab63fa",
           "#FFA15A",
           "#19d3f3",
           "#FF6692",
           "#B6E880",
           "#FF97FF",
           "#FECB52"
          ],
          "font": {
           "color": "#2a3f5f"
          },
          "geo": {
           "bgcolor": "white",
           "lakecolor": "white",
           "landcolor": "#E5ECF6",
           "showlakes": true,
           "showland": true,
           "subunitcolor": "white"
          },
          "hoverlabel": {
           "align": "left"
          },
          "hovermode": "closest",
          "mapbox": {
           "style": "light"
          },
          "paper_bgcolor": "white",
          "plot_bgcolor": "#E5ECF6",
          "polar": {
           "angularaxis": {
            "gridcolor": "white",
            "linecolor": "white",
            "ticks": ""
           },
           "bgcolor": "#E5ECF6",
           "radialaxis": {
            "gridcolor": "white",
            "linecolor": "white",
            "ticks": ""
           }
          },
          "scene": {
           "xaxis": {
            "backgroundcolor": "#E5ECF6",
            "gridcolor": "white",
            "gridwidth": 2,
            "linecolor": "white",
            "showbackground": true,
            "ticks": "",
            "zerolinecolor": "white"
           },
           "yaxis": {
            "backgroundcolor": "#E5ECF6",
            "gridcolor": "white",
            "gridwidth": 2,
            "linecolor": "white",
            "showbackground": true,
            "ticks": "",
            "zerolinecolor": "white"
           },
           "zaxis": {
            "backgroundcolor": "#E5ECF6",
            "gridcolor": "white",
            "gridwidth": 2,
            "linecolor": "white",
            "showbackground": true,
            "ticks": "",
            "zerolinecolor": "white"
           }
          },
          "shapedefaults": {
           "line": {
            "color": "#2a3f5f"
           }
          },
          "ternary": {
           "aaxis": {
            "gridcolor": "white",
            "linecolor": "white",
            "ticks": ""
           },
           "baxis": {
            "gridcolor": "white",
            "linecolor": "white",
            "ticks": ""
           },
           "bgcolor": "#E5ECF6",
           "caxis": {
            "gridcolor": "white",
            "linecolor": "white",
            "ticks": ""
           }
          },
          "title": {
           "x": 0.05
          },
          "xaxis": {
           "automargin": true,
           "gridcolor": "white",
           "linecolor": "white",
           "ticks": "",
           "title": {
            "standoff": 15
           },
           "zerolinecolor": "white",
           "zerolinewidth": 2
          },
          "yaxis": {
           "automargin": true,
           "gridcolor": "white",
           "linecolor": "white",
           "ticks": "",
           "title": {
            "standoff": 15
           },
           "zerolinecolor": "white",
           "zerolinewidth": 2
          }
         }
        },
        "title": {
         "text": "Top 3 Finishes by Team and Rank (Last 10 Years)"
        },
        "xaxis": {
         "anchor": "y",
         "categoryorder": "total descending",
         "domain": [
          0,
          1
         ],
         "title": {
          "text": "Team"
         }
        },
        "yaxis": {
         "anchor": "x",
         "domain": [
          0,
          1
         ],
         "title": {
          "text": "Finish Count"
         }
        }
       }
      }
     },
     "metadata": {},
     "output_type": "display_data"
    }
   ],
   "source": [
    "import plotly.express as px\n",
    "\n",
    "# Get the top 3 ranks only\n",
    "ranking_counts = full_data['squad'].groupby(full_data['rk']).value_counts().reset_index(name='count')\n",
    "\n",
    "# Keep only top 3 ranks (optional if you're sure it’s only top 3)\n",
    "ranking_counts = ranking_counts[ranking_counts['rk'].isin([1,2,3])]\n",
    "\n",
    "# Plot\n",
    "fig = px.bar(ranking_counts, x='squad', y='count', color='rk',\n",
    "             barmode='group',\n",
    "             title='Top 3 Finishes by Team and Rank (Last 10 Years)',\n",
    "             labels={'squad': 'Team', 'count': 'Finish Count', 'rk': 'Rank'})\n",
    "\n",
    "fig.update_layout(xaxis={'categoryorder':'total descending'})\n",
    "fig.show()\n"
   ]
  },
  {
   "cell_type": "code",
   "execution_count": 7,
   "metadata": {},
   "outputs": [
    {
     "data": {
      "text/html": [
       "<div>\n",
       "<style scoped>\n",
       "    .dataframe tbody tr th:only-of-type {\n",
       "        vertical-align: middle;\n",
       "    }\n",
       "\n",
       "    .dataframe tbody tr th {\n",
       "        vertical-align: top;\n",
       "    }\n",
       "\n",
       "    .dataframe thead th {\n",
       "        text-align: right;\n",
       "    }\n",
       "</style>\n",
       "<table border=\"1\" class=\"dataframe\">\n",
       "  <thead>\n",
       "    <tr style=\"text-align: right;\">\n",
       "      <th></th>\n",
       "      <th>rk</th>\n",
       "      <th>mp</th>\n",
       "      <th>w</th>\n",
       "      <th>d</th>\n",
       "      <th>l</th>\n",
       "      <th>gf</th>\n",
       "      <th>ga</th>\n",
       "      <th>gd</th>\n",
       "      <th>pts</th>\n",
       "      <th>pts/mp</th>\n",
       "      <th>attendance</th>\n",
       "      <th>season</th>\n",
       "      <th>xg</th>\n",
       "      <th>xga</th>\n",
       "      <th>xgd</th>\n",
       "      <th>xgd/90</th>\n",
       "    </tr>\n",
       "  </thead>\n",
       "  <tbody>\n",
       "    <tr>\n",
       "      <th>count</th>\n",
       "      <td>220.000000</td>\n",
       "      <td>220.000000</td>\n",
       "      <td>220.000000</td>\n",
       "      <td>220.000000</td>\n",
       "      <td>220.000000</td>\n",
       "      <td>220.000000</td>\n",
       "      <td>220.000000</td>\n",
       "      <td>220.000000</td>\n",
       "      <td>220.000000</td>\n",
       "      <td>220.000000</td>\n",
       "      <td>204.000000</td>\n",
       "      <td>220.000000</td>\n",
       "      <td>160.000000</td>\n",
       "      <td>160.000000</td>\n",
       "      <td>160.000000</td>\n",
       "      <td>160.000000</td>\n",
       "    </tr>\n",
       "    <tr>\n",
       "      <th>mean</th>\n",
       "      <td>10.500000</td>\n",
       "      <td>37.072727</td>\n",
       "      <td>13.690909</td>\n",
       "      <td>9.690909</td>\n",
       "      <td>13.690909</td>\n",
       "      <td>48.690909</td>\n",
       "      <td>48.690909</td>\n",
       "      <td>0.000000</td>\n",
       "      <td>50.750000</td>\n",
       "      <td>1.369000</td>\n",
       "      <td>26454.740196</td>\n",
       "      <td>2019.000000</td>\n",
       "      <td>47.171875</td>\n",
       "      <td>47.172500</td>\n",
       "      <td>0.001250</td>\n",
       "      <td>-0.000062</td>\n",
       "    </tr>\n",
       "    <tr>\n",
       "      <th>std</th>\n",
       "      <td>5.779431</td>\n",
       "      <td>2.941466</td>\n",
       "      <td>6.182529</td>\n",
       "      <td>2.900938</td>\n",
       "      <td>5.422337</td>\n",
       "      <td>17.790894</td>\n",
       "      <td>13.463460</td>\n",
       "      <td>26.217739</td>\n",
       "      <td>17.512324</td>\n",
       "      <td>0.456516</td>\n",
       "      <td>18082.920957</td>\n",
       "      <td>3.169489</td>\n",
       "      <td>11.924902</td>\n",
       "      <td>9.567384</td>\n",
       "      <td>16.535515</td>\n",
       "      <td>0.459340</td>\n",
       "    </tr>\n",
       "    <tr>\n",
       "      <th>min</th>\n",
       "      <td>1.000000</td>\n",
       "      <td>27.000000</td>\n",
       "      <td>3.000000</td>\n",
       "      <td>2.000000</td>\n",
       "      <td>1.000000</td>\n",
       "      <td>18.000000</td>\n",
       "      <td>18.000000</td>\n",
       "      <td>-54.000000</td>\n",
       "      <td>16.000000</td>\n",
       "      <td>0.530000</td>\n",
       "      <td>91.000000</td>\n",
       "      <td>2014.000000</td>\n",
       "      <td>20.800000</td>\n",
       "      <td>25.600000</td>\n",
       "      <td>-32.600000</td>\n",
       "      <td>-0.920000</td>\n",
       "    </tr>\n",
       "    <tr>\n",
       "      <th>25%</th>\n",
       "      <td>5.750000</td>\n",
       "      <td>38.000000</td>\n",
       "      <td>9.000000</td>\n",
       "      <td>8.000000</td>\n",
       "      <td>10.000000</td>\n",
       "      <td>37.000000</td>\n",
       "      <td>38.750000</td>\n",
       "      <td>-17.000000</td>\n",
       "      <td>39.000000</td>\n",
       "      <td>1.050000</td>\n",
       "      <td>13677.500000</td>\n",
       "      <td>2016.000000</td>\n",
       "      <td>39.450000</td>\n",
       "      <td>40.675000</td>\n",
       "      <td>-11.000000</td>\n",
       "      <td>-0.292500</td>\n",
       "    </tr>\n",
       "    <tr>\n",
       "      <th>50%</th>\n",
       "      <td>10.500000</td>\n",
       "      <td>38.000000</td>\n",
       "      <td>12.000000</td>\n",
       "      <td>10.000000</td>\n",
       "      <td>14.000000</td>\n",
       "      <td>45.500000</td>\n",
       "      <td>49.000000</td>\n",
       "      <td>-6.000000</td>\n",
       "      <td>47.000000</td>\n",
       "      <td>1.290000</td>\n",
       "      <td>20127.500000</td>\n",
       "      <td>2019.000000</td>\n",
       "      <td>45.050000</td>\n",
       "      <td>46.950000</td>\n",
       "      <td>-2.800000</td>\n",
       "      <td>-0.075000</td>\n",
       "    </tr>\n",
       "    <tr>\n",
       "      <th>75%</th>\n",
       "      <td>15.250000</td>\n",
       "      <td>38.000000</td>\n",
       "      <td>17.000000</td>\n",
       "      <td>11.000000</td>\n",
       "      <td>17.250000</td>\n",
       "      <td>56.000000</td>\n",
       "      <td>58.000000</td>\n",
       "      <td>12.250000</td>\n",
       "      <td>60.000000</td>\n",
       "      <td>1.610000</td>\n",
       "      <td>37320.500000</td>\n",
       "      <td>2022.000000</td>\n",
       "      <td>53.225000</td>\n",
       "      <td>53.900000</td>\n",
       "      <td>10.400000</td>\n",
       "      <td>0.300000</td>\n",
       "    </tr>\n",
       "    <tr>\n",
       "      <th>max</th>\n",
       "      <td>20.000000</td>\n",
       "      <td>38.000000</td>\n",
       "      <td>30.000000</td>\n",
       "      <td>18.000000</td>\n",
       "      <td>28.000000</td>\n",
       "      <td>118.000000</td>\n",
       "      <td>94.000000</td>\n",
       "      <td>89.000000</td>\n",
       "      <td>95.000000</td>\n",
       "      <td>2.500000</td>\n",
       "      <td>83498.000000</td>\n",
       "      <td>2024.000000</td>\n",
       "      <td>85.400000</td>\n",
       "      <td>76.200000</td>\n",
       "      <td>42.300000</td>\n",
       "      <td>1.300000</td>\n",
       "    </tr>\n",
       "  </tbody>\n",
       "</table>\n",
       "</div>"
      ],
      "text/plain": [
       "               rk          mp           w           d           l          gf  \\\n",
       "count  220.000000  220.000000  220.000000  220.000000  220.000000  220.000000   \n",
       "mean    10.500000   37.072727   13.690909    9.690909   13.690909   48.690909   \n",
       "std      5.779431    2.941466    6.182529    2.900938    5.422337   17.790894   \n",
       "min      1.000000   27.000000    3.000000    2.000000    1.000000   18.000000   \n",
       "25%      5.750000   38.000000    9.000000    8.000000   10.000000   37.000000   \n",
       "50%     10.500000   38.000000   12.000000   10.000000   14.000000   45.500000   \n",
       "75%     15.250000   38.000000   17.000000   11.000000   17.250000   56.000000   \n",
       "max     20.000000   38.000000   30.000000   18.000000   28.000000  118.000000   \n",
       "\n",
       "               ga          gd         pts      pts/mp    attendance  \\\n",
       "count  220.000000  220.000000  220.000000  220.000000    204.000000   \n",
       "mean    48.690909    0.000000   50.750000    1.369000  26454.740196   \n",
       "std     13.463460   26.217739   17.512324    0.456516  18082.920957   \n",
       "min     18.000000  -54.000000   16.000000    0.530000     91.000000   \n",
       "25%     38.750000  -17.000000   39.000000    1.050000  13677.500000   \n",
       "50%     49.000000   -6.000000   47.000000    1.290000  20127.500000   \n",
       "75%     58.000000   12.250000   60.000000    1.610000  37320.500000   \n",
       "max     94.000000   89.000000   95.000000    2.500000  83498.000000   \n",
       "\n",
       "            season          xg         xga         xgd      xgd/90  \n",
       "count   220.000000  160.000000  160.000000  160.000000  160.000000  \n",
       "mean   2019.000000   47.171875   47.172500    0.001250   -0.000062  \n",
       "std       3.169489   11.924902    9.567384   16.535515    0.459340  \n",
       "min    2014.000000   20.800000   25.600000  -32.600000   -0.920000  \n",
       "25%    2016.000000   39.450000   40.675000  -11.000000   -0.292500  \n",
       "50%    2019.000000   45.050000   46.950000   -2.800000   -0.075000  \n",
       "75%    2022.000000   53.225000   53.900000   10.400000    0.300000  \n",
       "max    2024.000000   85.400000   76.200000   42.300000    1.300000  "
      ]
     },
     "execution_count": 7,
     "metadata": {},
     "output_type": "execute_result"
    }
   ],
   "source": [
    "full_data.describe()"
   ]
  },
  {
   "cell_type": "code",
   "execution_count": 8,
   "metadata": {},
   "outputs": [
    {
     "name": "stdout",
     "output_type": "stream",
     "text": [
      "     season            squad  pts  pts/mp  gd\n",
      "0      2014        Barcelona   94    2.47  89\n",
      "20     2015        Barcelona   91    2.39  83\n",
      "40     2016      Real Madrid   93    2.45  65\n",
      "60     2017        Barcelona   93    2.45  70\n",
      "80     2018        Barcelona   87    2.29  54\n",
      "100    2019      Real Madrid   87    2.29  45\n",
      "120    2020  Atlético Madrid   86    2.26  42\n",
      "140    2021      Real Madrid   86    2.26  49\n",
      "160    2022        Barcelona   88    2.32  50\n",
      "180    2023      Real Madrid   95    2.50  61\n",
      "200    2024        Barcelona   60    2.22  48\n"
     ]
    }
   ],
   "source": [
    "####### Winning teams of the past 10 years\n",
    "\n",
    "# Filter the dataset for teams that finished 1st each season\n",
    "winning_teams = full_data[full_data[\"rk\"] == 1][[\"season\", \"squad\", \"pts\", \"pts/mp\", \"gd\"]].sort_values(\"season\")\n",
    "\n",
    "# Display the results\n",
    "print(winning_teams)"
   ]
  },
  {
   "cell_type": "code",
   "execution_count": 9,
   "metadata": {},
   "outputs": [
    {
     "data": {
      "text/html": [
       "<div>\n",
       "<style scoped>\n",
       "    .dataframe tbody tr th:only-of-type {\n",
       "        vertical-align: middle;\n",
       "    }\n",
       "\n",
       "    .dataframe tbody tr th {\n",
       "        vertical-align: top;\n",
       "    }\n",
       "\n",
       "    .dataframe thead th {\n",
       "        text-align: right;\n",
       "    }\n",
       "</style>\n",
       "<table border=\"1\" class=\"dataframe\">\n",
       "  <thead>\n",
       "    <tr style=\"text-align: right;\">\n",
       "      <th></th>\n",
       "      <th>rk</th>\n",
       "      <th>squad</th>\n",
       "      <th>mp</th>\n",
       "      <th>w</th>\n",
       "      <th>d</th>\n",
       "      <th>l</th>\n",
       "      <th>gf</th>\n",
       "      <th>ga</th>\n",
       "      <th>gd</th>\n",
       "      <th>pts</th>\n",
       "      <th>pts/mp</th>\n",
       "      <th>attendance</th>\n",
       "      <th>top_team_scorer</th>\n",
       "      <th>goalkeeper</th>\n",
       "      <th>notes</th>\n",
       "      <th>season</th>\n",
       "      <th>xg</th>\n",
       "      <th>xga</th>\n",
       "      <th>xgd</th>\n",
       "      <th>xgd/90</th>\n",
       "      <th>last_5</th>\n",
       "    </tr>\n",
       "  </thead>\n",
       "  <tbody>\n",
       "    <tr>\n",
       "      <th>200</th>\n",
       "      <td>1</td>\n",
       "      <td>Barcelona</td>\n",
       "      <td>27</td>\n",
       "      <td>19</td>\n",
       "      <td>3</td>\n",
       "      <td>5</td>\n",
       "      <td>75</td>\n",
       "      <td>27</td>\n",
       "      <td>48</td>\n",
       "      <td>60</td>\n",
       "      <td>2.22</td>\n",
       "      <td>45119.0</td>\n",
       "      <td>Robert Lewandowski - 22</td>\n",
       "      <td>Iñaki Peña</td>\n",
       "      <td>NaN</td>\n",
       "      <td>2024</td>\n",
       "      <td>64.9</td>\n",
       "      <td>29.9</td>\n",
       "      <td>35.0</td>\n",
       "      <td>1.30</td>\n",
       "      <td>W W W W W</td>\n",
       "    </tr>\n",
       "    <tr>\n",
       "      <th>201</th>\n",
       "      <td>2</td>\n",
       "      <td>Real Madrid</td>\n",
       "      <td>28</td>\n",
       "      <td>18</td>\n",
       "      <td>6</td>\n",
       "      <td>4</td>\n",
       "      <td>59</td>\n",
       "      <td>27</td>\n",
       "      <td>32</td>\n",
       "      <td>60</td>\n",
       "      <td>2.14</td>\n",
       "      <td>69474.0</td>\n",
       "      <td>Kylian Mbappé - 20</td>\n",
       "      <td>Thibaut Courtois</td>\n",
       "      <td>NaN</td>\n",
       "      <td>2024</td>\n",
       "      <td>53.0</td>\n",
       "      <td>28.7</td>\n",
       "      <td>24.4</td>\n",
       "      <td>0.87</td>\n",
       "      <td>D W L W W</td>\n",
       "    </tr>\n",
       "    <tr>\n",
       "      <th>202</th>\n",
       "      <td>3</td>\n",
       "      <td>Atlético Madrid</td>\n",
       "      <td>28</td>\n",
       "      <td>16</td>\n",
       "      <td>8</td>\n",
       "      <td>4</td>\n",
       "      <td>46</td>\n",
       "      <td>22</td>\n",
       "      <td>24</td>\n",
       "      <td>56</td>\n",
       "      <td>2.00</td>\n",
       "      <td>61970.0</td>\n",
       "      <td>Alexander Sørloth, Julián Álvarez - 11</td>\n",
       "      <td>Jan Oblak</td>\n",
       "      <td>NaN</td>\n",
       "      <td>2024</td>\n",
       "      <td>45.3</td>\n",
       "      <td>26.4</td>\n",
       "      <td>18.9</td>\n",
       "      <td>0.68</td>\n",
       "      <td>D W W L L</td>\n",
       "    </tr>\n",
       "    <tr>\n",
       "      <th>203</th>\n",
       "      <td>4</td>\n",
       "      <td>Athletic Club</td>\n",
       "      <td>28</td>\n",
       "      <td>14</td>\n",
       "      <td>10</td>\n",
       "      <td>4</td>\n",
       "      <td>46</td>\n",
       "      <td>24</td>\n",
       "      <td>22</td>\n",
       "      <td>52</td>\n",
       "      <td>1.86</td>\n",
       "      <td>48344.0</td>\n",
       "      <td>Oihan Sancet - 13</td>\n",
       "      <td>Julen Agirrezabala</td>\n",
       "      <td>NaN</td>\n",
       "      <td>2024</td>\n",
       "      <td>42.5</td>\n",
       "      <td>25.6</td>\n",
       "      <td>16.9</td>\n",
       "      <td>0.61</td>\n",
       "      <td>D W L D W</td>\n",
       "    </tr>\n",
       "    <tr>\n",
       "      <th>204</th>\n",
       "      <td>5</td>\n",
       "      <td>Villarreal</td>\n",
       "      <td>27</td>\n",
       "      <td>12</td>\n",
       "      <td>8</td>\n",
       "      <td>7</td>\n",
       "      <td>49</td>\n",
       "      <td>38</td>\n",
       "      <td>11</td>\n",
       "      <td>44</td>\n",
       "      <td>1.63</td>\n",
       "      <td>18544.0</td>\n",
       "      <td>Ayoze Pérez - 11</td>\n",
       "      <td>Diego Conde</td>\n",
       "      <td>NaN</td>\n",
       "      <td>2024</td>\n",
       "      <td>47.8</td>\n",
       "      <td>30.3</td>\n",
       "      <td>17.5</td>\n",
       "      <td>0.65</td>\n",
       "      <td>W D W L L</td>\n",
       "    </tr>\n",
       "    <tr>\n",
       "      <th>205</th>\n",
       "      <td>6</td>\n",
       "      <td>Betis</td>\n",
       "      <td>28</td>\n",
       "      <td>12</td>\n",
       "      <td>8</td>\n",
       "      <td>8</td>\n",
       "      <td>38</td>\n",
       "      <td>35</td>\n",
       "      <td>3</td>\n",
       "      <td>44</td>\n",
       "      <td>1.57</td>\n",
       "      <td>51110.0</td>\n",
       "      <td>Giovani Lo Celso - 7</td>\n",
       "      <td>Rui Silva</td>\n",
       "      <td>NaN</td>\n",
       "      <td>2024</td>\n",
       "      <td>43.7</td>\n",
       "      <td>35.3</td>\n",
       "      <td>8.4</td>\n",
       "      <td>0.30</td>\n",
       "      <td>W W W W W</td>\n",
       "    </tr>\n",
       "    <tr>\n",
       "      <th>206</th>\n",
       "      <td>7</td>\n",
       "      <td>Mallorca</td>\n",
       "      <td>28</td>\n",
       "      <td>11</td>\n",
       "      <td>7</td>\n",
       "      <td>10</td>\n",
       "      <td>28</td>\n",
       "      <td>34</td>\n",
       "      <td>-6</td>\n",
       "      <td>40</td>\n",
       "      <td>1.43</td>\n",
       "      <td>18781.0</td>\n",
       "      <td>Vedat Muriqi - 7</td>\n",
       "      <td>Dominik Greif</td>\n",
       "      <td>NaN</td>\n",
       "      <td>2024</td>\n",
       "      <td>32.8</td>\n",
       "      <td>30.8</td>\n",
       "      <td>2.0</td>\n",
       "      <td>0.07</td>\n",
       "      <td>W D D D W</td>\n",
       "    </tr>\n",
       "    <tr>\n",
       "      <th>207</th>\n",
       "      <td>8</td>\n",
       "      <td>Celta Vigo</td>\n",
       "      <td>28</td>\n",
       "      <td>11</td>\n",
       "      <td>6</td>\n",
       "      <td>11</td>\n",
       "      <td>41</td>\n",
       "      <td>41</td>\n",
       "      <td>0</td>\n",
       "      <td>39</td>\n",
       "      <td>1.39</td>\n",
       "      <td>22082.0</td>\n",
       "      <td>Iago Aspas - 8</td>\n",
       "      <td>Vicente Guaita</td>\n",
       "      <td>NaN</td>\n",
       "      <td>2024</td>\n",
       "      <td>38.9</td>\n",
       "      <td>30.2</td>\n",
       "      <td>8.6</td>\n",
       "      <td>0.31</td>\n",
       "      <td>D W D W W</td>\n",
       "    </tr>\n",
       "    <tr>\n",
       "      <th>208</th>\n",
       "      <td>9</td>\n",
       "      <td>Rayo Vallecano</td>\n",
       "      <td>28</td>\n",
       "      <td>9</td>\n",
       "      <td>10</td>\n",
       "      <td>9</td>\n",
       "      <td>31</td>\n",
       "      <td>31</td>\n",
       "      <td>0</td>\n",
       "      <td>37</td>\n",
       "      <td>1.32</td>\n",
       "      <td>13131.0</td>\n",
       "      <td>Jorge de Frutos - 4</td>\n",
       "      <td>Augusto Batalla</td>\n",
       "      <td>NaN</td>\n",
       "      <td>2024</td>\n",
       "      <td>34.3</td>\n",
       "      <td>32.5</td>\n",
       "      <td>1.9</td>\n",
       "      <td>0.07</td>\n",
       "      <td>L L D L D</td>\n",
       "    </tr>\n",
       "    <tr>\n",
       "      <th>209</th>\n",
       "      <td>10</td>\n",
       "      <td>Sevilla</td>\n",
       "      <td>28</td>\n",
       "      <td>9</td>\n",
       "      <td>9</td>\n",
       "      <td>10</td>\n",
       "      <td>32</td>\n",
       "      <td>37</td>\n",
       "      <td>-5</td>\n",
       "      <td>36</td>\n",
       "      <td>1.29</td>\n",
       "      <td>35768.0</td>\n",
       "      <td>Dodi Lukebakio - 11</td>\n",
       "      <td>Ørjan Nyland</td>\n",
       "      <td>NaN</td>\n",
       "      <td>2024</td>\n",
       "      <td>29.4</td>\n",
       "      <td>37.3</td>\n",
       "      <td>-8.0</td>\n",
       "      <td>-0.28</td>\n",
       "      <td>W D D W L</td>\n",
       "    </tr>\n",
       "    <tr>\n",
       "      <th>210</th>\n",
       "      <td>11</td>\n",
       "      <td>Getafe</td>\n",
       "      <td>28</td>\n",
       "      <td>9</td>\n",
       "      <td>9</td>\n",
       "      <td>10</td>\n",
       "      <td>25</td>\n",
       "      <td>23</td>\n",
       "      <td>2</td>\n",
       "      <td>36</td>\n",
       "      <td>1.29</td>\n",
       "      <td>11323.0</td>\n",
       "      <td>Mauro Arambarri - 8</td>\n",
       "      <td>David Soria</td>\n",
       "      <td>NaN</td>\n",
       "      <td>2024</td>\n",
       "      <td>25.8</td>\n",
       "      <td>34.1</td>\n",
       "      <td>-8.3</td>\n",
       "      <td>-0.30</td>\n",
       "      <td>W L L W W</td>\n",
       "    </tr>\n",
       "    <tr>\n",
       "      <th>211</th>\n",
       "      <td>12</td>\n",
       "      <td>Real Sociedad</td>\n",
       "      <td>28</td>\n",
       "      <td>10</td>\n",
       "      <td>5</td>\n",
       "      <td>13</td>\n",
       "      <td>25</td>\n",
       "      <td>30</td>\n",
       "      <td>-5</td>\n",
       "      <td>35</td>\n",
       "      <td>1.25</td>\n",
       "      <td>30060.0</td>\n",
       "      <td>Takefusa Kubo - 5</td>\n",
       "      <td>Álex Remiro</td>\n",
       "      <td>NaN</td>\n",
       "      <td>2024</td>\n",
       "      <td>30.1</td>\n",
       "      <td>30.5</td>\n",
       "      <td>-0.3</td>\n",
       "      <td>-0.01</td>\n",
       "      <td>L W L L D</td>\n",
       "    </tr>\n",
       "    <tr>\n",
       "      <th>212</th>\n",
       "      <td>13</td>\n",
       "      <td>Girona</td>\n",
       "      <td>28</td>\n",
       "      <td>9</td>\n",
       "      <td>7</td>\n",
       "      <td>12</td>\n",
       "      <td>36</td>\n",
       "      <td>41</td>\n",
       "      <td>-5</td>\n",
       "      <td>34</td>\n",
       "      <td>1.21</td>\n",
       "      <td>11878.0</td>\n",
       "      <td>Cristhian Stuani - 6</td>\n",
       "      <td>Paulo Gazzaniga</td>\n",
       "      <td>NaN</td>\n",
       "      <td>2024</td>\n",
       "      <td>32.7</td>\n",
       "      <td>35.5</td>\n",
       "      <td>-2.8</td>\n",
       "      <td>-0.10</td>\n",
       "      <td>L L D D D</td>\n",
       "    </tr>\n",
       "    <tr>\n",
       "      <th>213</th>\n",
       "      <td>14</td>\n",
       "      <td>Osasuna</td>\n",
       "      <td>27</td>\n",
       "      <td>7</td>\n",
       "      <td>12</td>\n",
       "      <td>8</td>\n",
       "      <td>33</td>\n",
       "      <td>39</td>\n",
       "      <td>-6</td>\n",
       "      <td>33</td>\n",
       "      <td>1.22</td>\n",
       "      <td>20452.0</td>\n",
       "      <td>Ante Budimir - 15</td>\n",
       "      <td>Sergio Herrera</td>\n",
       "      <td>NaN</td>\n",
       "      <td>2024</td>\n",
       "      <td>30.1</td>\n",
       "      <td>37.0</td>\n",
       "      <td>-6.9</td>\n",
       "      <td>-0.26</td>\n",
       "      <td>D D L D L</td>\n",
       "    </tr>\n",
       "    <tr>\n",
       "      <th>214</th>\n",
       "      <td>15</td>\n",
       "      <td>Espanyol</td>\n",
       "      <td>27</td>\n",
       "      <td>7</td>\n",
       "      <td>7</td>\n",
       "      <td>13</td>\n",
       "      <td>26</td>\n",
       "      <td>39</td>\n",
       "      <td>-13</td>\n",
       "      <td>28</td>\n",
       "      <td>1.04</td>\n",
       "      <td>23977.0</td>\n",
       "      <td>Javi Puado - 8</td>\n",
       "      <td>Joan García</td>\n",
       "      <td>NaN</td>\n",
       "      <td>2024</td>\n",
       "      <td>20.8</td>\n",
       "      <td>43.6</td>\n",
       "      <td>-22.8</td>\n",
       "      <td>-0.85</td>\n",
       "      <td>L D W D L</td>\n",
       "    </tr>\n",
       "    <tr>\n",
       "      <th>215</th>\n",
       "      <td>16</td>\n",
       "      <td>Valencia</td>\n",
       "      <td>28</td>\n",
       "      <td>6</td>\n",
       "      <td>10</td>\n",
       "      <td>12</td>\n",
       "      <td>31</td>\n",
       "      <td>46</td>\n",
       "      <td>-15</td>\n",
       "      <td>28</td>\n",
       "      <td>1.00</td>\n",
       "      <td>42618.0</td>\n",
       "      <td>Hugo Duro - 7</td>\n",
       "      <td>Giorgi Mamardashvili</td>\n",
       "      <td>NaN</td>\n",
       "      <td>2024</td>\n",
       "      <td>31.5</td>\n",
       "      <td>40.3</td>\n",
       "      <td>-8.8</td>\n",
       "      <td>-0.31</td>\n",
       "      <td>D L D W D</td>\n",
       "    </tr>\n",
       "    <tr>\n",
       "      <th>216</th>\n",
       "      <td>17</td>\n",
       "      <td>Alavés</td>\n",
       "      <td>28</td>\n",
       "      <td>6</td>\n",
       "      <td>9</td>\n",
       "      <td>13</td>\n",
       "      <td>32</td>\n",
       "      <td>42</td>\n",
       "      <td>-10</td>\n",
       "      <td>27</td>\n",
       "      <td>0.96</td>\n",
       "      <td>16862.0</td>\n",
       "      <td>Kiké - 11</td>\n",
       "      <td>Antonio Sivera</td>\n",
       "      <td>NaN</td>\n",
       "      <td>2024</td>\n",
       "      <td>32.4</td>\n",
       "      <td>35.9</td>\n",
       "      <td>-3.5</td>\n",
       "      <td>-0.12</td>\n",
       "      <td>D L D W D</td>\n",
       "    </tr>\n",
       "    <tr>\n",
       "      <th>217</th>\n",
       "      <td>18</td>\n",
       "      <td>Leganés</td>\n",
       "      <td>28</td>\n",
       "      <td>6</td>\n",
       "      <td>9</td>\n",
       "      <td>13</td>\n",
       "      <td>26</td>\n",
       "      <td>43</td>\n",
       "      <td>-17</td>\n",
       "      <td>27</td>\n",
       "      <td>0.96</td>\n",
       "      <td>10964.0</td>\n",
       "      <td>Dani Raba - 5</td>\n",
       "      <td>Marko Dmitrović</td>\n",
       "      <td>NaN</td>\n",
       "      <td>2024</td>\n",
       "      <td>23.3</td>\n",
       "      <td>45.1</td>\n",
       "      <td>-21.9</td>\n",
       "      <td>-0.78</td>\n",
       "      <td>D L W L L</td>\n",
       "    </tr>\n",
       "    <tr>\n",
       "      <th>218</th>\n",
       "      <td>19</td>\n",
       "      <td>Las Palmas</td>\n",
       "      <td>28</td>\n",
       "      <td>6</td>\n",
       "      <td>7</td>\n",
       "      <td>15</td>\n",
       "      <td>32</td>\n",
       "      <td>47</td>\n",
       "      <td>-15</td>\n",
       "      <td>25</td>\n",
       "      <td>0.89</td>\n",
       "      <td>23616.0</td>\n",
       "      <td>Sandro Ramírez, Fábio Silva - 8</td>\n",
       "      <td>Jasper Cillessen</td>\n",
       "      <td>NaN</td>\n",
       "      <td>2024</td>\n",
       "      <td>27.2</td>\n",
       "      <td>51.8</td>\n",
       "      <td>-24.6</td>\n",
       "      <td>-0.88</td>\n",
       "      <td>L L D L D</td>\n",
       "    </tr>\n",
       "    <tr>\n",
       "      <th>219</th>\n",
       "      <td>20</td>\n",
       "      <td>Valladolid</td>\n",
       "      <td>28</td>\n",
       "      <td>4</td>\n",
       "      <td>4</td>\n",
       "      <td>20</td>\n",
       "      <td>18</td>\n",
       "      <td>63</td>\n",
       "      <td>-45</td>\n",
       "      <td>16</td>\n",
       "      <td>0.57</td>\n",
       "      <td>21121.0</td>\n",
       "      <td>Mamadou Sylla, Selim Amallah... - 3</td>\n",
       "      <td>Karl Jakob Hein</td>\n",
       "      <td>NaN</td>\n",
       "      <td>2024</td>\n",
       "      <td>23.9</td>\n",
       "      <td>49.6</td>\n",
       "      <td>-25.7</td>\n",
       "      <td>-0.92</td>\n",
       "      <td>L L D L L</td>\n",
       "    </tr>\n",
       "  </tbody>\n",
       "</table>\n",
       "</div>"
      ],
      "text/plain": [
       "     rk            squad  mp   w   d   l  gf  ga  gd  pts  pts/mp  attendance  \\\n",
       "200   1        Barcelona  27  19   3   5  75  27  48   60    2.22     45119.0   \n",
       "201   2      Real Madrid  28  18   6   4  59  27  32   60    2.14     69474.0   \n",
       "202   3  Atlético Madrid  28  16   8   4  46  22  24   56    2.00     61970.0   \n",
       "203   4    Athletic Club  28  14  10   4  46  24  22   52    1.86     48344.0   \n",
       "204   5       Villarreal  27  12   8   7  49  38  11   44    1.63     18544.0   \n",
       "205   6            Betis  28  12   8   8  38  35   3   44    1.57     51110.0   \n",
       "206   7         Mallorca  28  11   7  10  28  34  -6   40    1.43     18781.0   \n",
       "207   8       Celta Vigo  28  11   6  11  41  41   0   39    1.39     22082.0   \n",
       "208   9   Rayo Vallecano  28   9  10   9  31  31   0   37    1.32     13131.0   \n",
       "209  10          Sevilla  28   9   9  10  32  37  -5   36    1.29     35768.0   \n",
       "210  11           Getafe  28   9   9  10  25  23   2   36    1.29     11323.0   \n",
       "211  12    Real Sociedad  28  10   5  13  25  30  -5   35    1.25     30060.0   \n",
       "212  13           Girona  28   9   7  12  36  41  -5   34    1.21     11878.0   \n",
       "213  14          Osasuna  27   7  12   8  33  39  -6   33    1.22     20452.0   \n",
       "214  15         Espanyol  27   7   7  13  26  39 -13   28    1.04     23977.0   \n",
       "215  16         Valencia  28   6  10  12  31  46 -15   28    1.00     42618.0   \n",
       "216  17           Alavés  28   6   9  13  32  42 -10   27    0.96     16862.0   \n",
       "217  18          Leganés  28   6   9  13  26  43 -17   27    0.96     10964.0   \n",
       "218  19       Las Palmas  28   6   7  15  32  47 -15   25    0.89     23616.0   \n",
       "219  20       Valladolid  28   4   4  20  18  63 -45   16    0.57     21121.0   \n",
       "\n",
       "                            top_team_scorer            goalkeeper notes  \\\n",
       "200                 Robert Lewandowski - 22            Iñaki Peña   NaN   \n",
       "201                      Kylian Mbappé - 20      Thibaut Courtois   NaN   \n",
       "202  Alexander Sørloth, Julián Álvarez - 11             Jan Oblak   NaN   \n",
       "203                       Oihan Sancet - 13    Julen Agirrezabala   NaN   \n",
       "204                        Ayoze Pérez - 11           Diego Conde   NaN   \n",
       "205                    Giovani Lo Celso - 7             Rui Silva   NaN   \n",
       "206                        Vedat Muriqi - 7         Dominik Greif   NaN   \n",
       "207                          Iago Aspas - 8        Vicente Guaita   NaN   \n",
       "208                     Jorge de Frutos - 4       Augusto Batalla   NaN   \n",
       "209                     Dodi Lukebakio - 11          Ørjan Nyland   NaN   \n",
       "210                     Mauro Arambarri - 8           David Soria   NaN   \n",
       "211                       Takefusa Kubo - 5           Álex Remiro   NaN   \n",
       "212                    Cristhian Stuani - 6       Paulo Gazzaniga   NaN   \n",
       "213                       Ante Budimir - 15        Sergio Herrera   NaN   \n",
       "214                          Javi Puado - 8           Joan García   NaN   \n",
       "215                           Hugo Duro - 7  Giorgi Mamardashvili   NaN   \n",
       "216                               Kiké - 11        Antonio Sivera   NaN   \n",
       "217                           Dani Raba - 5       Marko Dmitrović   NaN   \n",
       "218         Sandro Ramírez, Fábio Silva - 8      Jasper Cillessen   NaN   \n",
       "219     Mamadou Sylla, Selim Amallah... - 3       Karl Jakob Hein   NaN   \n",
       "\n",
       "     season    xg   xga   xgd  xgd/90     last_5  \n",
       "200    2024  64.9  29.9  35.0    1.30  W W W W W  \n",
       "201    2024  53.0  28.7  24.4    0.87  D W L W W  \n",
       "202    2024  45.3  26.4  18.9    0.68  D W W L L  \n",
       "203    2024  42.5  25.6  16.9    0.61  D W L D W  \n",
       "204    2024  47.8  30.3  17.5    0.65  W D W L L  \n",
       "205    2024  43.7  35.3   8.4    0.30  W W W W W  \n",
       "206    2024  32.8  30.8   2.0    0.07  W D D D W  \n",
       "207    2024  38.9  30.2   8.6    0.31  D W D W W  \n",
       "208    2024  34.3  32.5   1.9    0.07  L L D L D  \n",
       "209    2024  29.4  37.3  -8.0   -0.28  W D D W L  \n",
       "210    2024  25.8  34.1  -8.3   -0.30  W L L W W  \n",
       "211    2024  30.1  30.5  -0.3   -0.01  L W L L D  \n",
       "212    2024  32.7  35.5  -2.8   -0.10  L L D D D  \n",
       "213    2024  30.1  37.0  -6.9   -0.26  D D L D L  \n",
       "214    2024  20.8  43.6 -22.8   -0.85  L D W D L  \n",
       "215    2024  31.5  40.3  -8.8   -0.31  D L D W D  \n",
       "216    2024  32.4  35.9  -3.5   -0.12  D L D W D  \n",
       "217    2024  23.3  45.1 -21.9   -0.78  D L W L L  \n",
       "218    2024  27.2  51.8 -24.6   -0.88  L L D L D  \n",
       "219    2024  23.9  49.6 -25.7   -0.92  L L D L L  "
      ]
     },
     "execution_count": 9,
     "metadata": {},
     "output_type": "execute_result"
    }
   ],
   "source": [
    "full_data.tail(20)"
   ]
  },
  {
   "cell_type": "code",
   "execution_count": 10,
   "metadata": {},
   "outputs": [
    {
     "name": "stdout",
     "output_type": "stream",
     "text": [
      "Average Pts/MP for past 10 winning teams (excluding this year): 2.37\n"
     ]
    }
   ],
   "source": [
    "# Filter for winning teams from the past 10 years, excluding the current season\n",
    "winning_teams_past_10 = full_data[(full_data[\"rk\"] == 1) & (full_data[\"season\"] < 2024)]\n",
    "\n",
    "# Compute the average 'pts/mp' for the past 10 winning teams\n",
    "avg_pts_mp_winners = winning_teams_past_10[\"pts/mp\"].mean()\n",
    "\n",
    "# Display the result\n",
    "print(f\"Average Pts/MP for past 10 winning teams (excluding this year): {avg_pts_mp_winners:.2f}\")"
   ]
  },
  {
   "cell_type": "code",
   "execution_count": 11,
   "metadata": {},
   "outputs": [],
   "source": [
    "# Convert 'rk' to binary (1 if team won the league, 0 otherwise)\n",
    "full_data[\"is_champion\"] = (full_data[\"rk\"] == 1).astype(int)\n",
    "\n",
    "# Filter only championship-winning teams\n",
    "champions_only = full_data[full_data[\"is_champion\"] == 1]"
   ]
  },
  {
   "cell_type": "code",
   "execution_count": 12,
   "metadata": {},
   "outputs": [
    {
     "data": {
      "text/html": [
       "<div>\n",
       "<style scoped>\n",
       "    .dataframe tbody tr th:only-of-type {\n",
       "        vertical-align: middle;\n",
       "    }\n",
       "\n",
       "    .dataframe tbody tr th {\n",
       "        vertical-align: top;\n",
       "    }\n",
       "\n",
       "    .dataframe thead th {\n",
       "        text-align: right;\n",
       "    }\n",
       "</style>\n",
       "<table border=\"1\" class=\"dataframe\">\n",
       "  <thead>\n",
       "    <tr style=\"text-align: right;\">\n",
       "      <th></th>\n",
       "      <th>rk</th>\n",
       "      <th>squad</th>\n",
       "      <th>mp</th>\n",
       "      <th>w</th>\n",
       "      <th>d</th>\n",
       "      <th>l</th>\n",
       "      <th>gf</th>\n",
       "      <th>ga</th>\n",
       "      <th>gd</th>\n",
       "      <th>pts</th>\n",
       "      <th>pts/mp</th>\n",
       "      <th>attendance</th>\n",
       "      <th>top_team_scorer</th>\n",
       "      <th>goalkeeper</th>\n",
       "      <th>notes</th>\n",
       "      <th>season</th>\n",
       "      <th>xg</th>\n",
       "      <th>xga</th>\n",
       "      <th>xgd</th>\n",
       "      <th>xgd/90</th>\n",
       "      <th>last_5</th>\n",
       "      <th>is_champion</th>\n",
       "    </tr>\n",
       "  </thead>\n",
       "  <tbody>\n",
       "    <tr>\n",
       "      <th>0</th>\n",
       "      <td>1</td>\n",
       "      <td>Barcelona</td>\n",
       "      <td>38</td>\n",
       "      <td>30</td>\n",
       "      <td>4</td>\n",
       "      <td>4</td>\n",
       "      <td>110</td>\n",
       "      <td>21</td>\n",
       "      <td>89</td>\n",
       "      <td>94</td>\n",
       "      <td>2.47</td>\n",
       "      <td>77632.0</td>\n",
       "      <td>Lionel Messi - 43</td>\n",
       "      <td>Claudio Bravo</td>\n",
       "      <td>→ Champions League via Champions League win</td>\n",
       "      <td>2014</td>\n",
       "      <td>NaN</td>\n",
       "      <td>NaN</td>\n",
       "      <td>NaN</td>\n",
       "      <td>NaN</td>\n",
       "      <td>NaN</td>\n",
       "      <td>1</td>\n",
       "    </tr>\n",
       "    <tr>\n",
       "      <th>1</th>\n",
       "      <td>2</td>\n",
       "      <td>Real Madrid</td>\n",
       "      <td>38</td>\n",
       "      <td>30</td>\n",
       "      <td>2</td>\n",
       "      <td>6</td>\n",
       "      <td>118</td>\n",
       "      <td>38</td>\n",
       "      <td>80</td>\n",
       "      <td>92</td>\n",
       "      <td>2.42</td>\n",
       "      <td>73545.0</td>\n",
       "      <td>Cristiano Ronaldo - 48</td>\n",
       "      <td>Iker Casillas</td>\n",
       "      <td>→ Champions League via league finish</td>\n",
       "      <td>2014</td>\n",
       "      <td>NaN</td>\n",
       "      <td>NaN</td>\n",
       "      <td>NaN</td>\n",
       "      <td>NaN</td>\n",
       "      <td>NaN</td>\n",
       "      <td>0</td>\n",
       "    </tr>\n",
       "  </tbody>\n",
       "</table>\n",
       "</div>"
      ],
      "text/plain": [
       "   rk        squad  mp   w  d  l   gf  ga  gd  pts  pts/mp  attendance  \\\n",
       "0   1    Barcelona  38  30  4  4  110  21  89   94    2.47     77632.0   \n",
       "1   2  Real Madrid  38  30  2  6  118  38  80   92    2.42     73545.0   \n",
       "\n",
       "          top_team_scorer     goalkeeper  \\\n",
       "0       Lionel Messi - 43  Claudio Bravo   \n",
       "1  Cristiano Ronaldo - 48  Iker Casillas   \n",
       "\n",
       "                                         notes  season  xg  xga  xgd  xgd/90  \\\n",
       "0  → Champions League via Champions League win    2014 NaN  NaN  NaN     NaN   \n",
       "1         → Champions League via league finish    2014 NaN  NaN  NaN     NaN   \n",
       "\n",
       "  last_5  is_champion  \n",
       "0    NaN            1  \n",
       "1    NaN            0  "
      ]
     },
     "execution_count": 12,
     "metadata": {},
     "output_type": "execute_result"
    }
   ],
   "source": [
    "full_data.head(2)"
   ]
  },
  {
   "cell_type": "code",
   "execution_count": 13,
   "metadata": {},
   "outputs": [
    {
     "name": "stdout",
     "output_type": "stream",
     "text": [
      "Mean of 'pts/mp': 2.35\n"
     ]
    }
   ],
   "source": [
    "# Calculate the mean of 'pts/mp'\n",
    "mean_pts_mp = champions_only[\"pts/mp\"].mean()\n",
    "\n",
    "print(f\"Mean of 'pts/mp': {mean_pts_mp:.2f}\")"
   ]
  },
  {
   "cell_type": "code",
   "execution_count": 14,
   "metadata": {},
   "outputs": [
    {
     "data": {
      "image/png": "[encoded data removed]",
      "text/plain": [
       "<Figure size 1000x500 with 1 Axes>"
      ]
     },
     "metadata": {},
     "output_type": "display_data"
    }
   ],
   "source": [
    "import matplotlib.pyplot as plt\n",
    "\n",
    "# Plot trend of 'pts/mp' for champions over the years\n",
    "plt.figure(figsize=(10, 5))\n",
    "plt.plot(champions_only[\"season\"], champions_only[\"pts/mp\"], marker=\"o\", linestyle=\"-\", color=\"b\")\n",
    "plt.axhline(y=mean_pts_mp, color='r', linestyle='-', label=f'Mean: {mean_pts_mp:.2f}')\n",
    "plt.xlabel(\"Season\")\n",
    "plt.ylabel(\"Points Per Match (Pts/MP)\")\n",
    "plt.title(\"Trend of Pts/MP for League Winners Over Time\")\n",
    "plt.grid(True)\n",
    "plt.legend()\n",
    "plt.show()"
   ]
  },
  {
   "cell_type": "markdown",
   "metadata": {},
   "source": [
    "## ML Modeling & Predictions"
   ]
  },
  {
   "cell_type": "code",
   "execution_count": 15,
   "metadata": {},
   "outputs": [],
   "source": [
    "from sklearn.ensemble import RandomForestClassifier  # Machine learning model\n",
    "from sklearn.preprocessing import StandardScaler     # To normalize our features\n",
    "from sklearn.metrics import accuracy_score, classification_report, confusion_matrix, roc_auc_score, log_loss  # Model evaluation\n",
    "from sklearn.model_selection import cross_val_score  # For cross-validation\n",
    "import pandas as pd                                  # For data manipulation\n",
    "import numpy as np                           # For numerical operations"
   ]
  },
  {
   "cell_type": "code",
   "execution_count": 16,
   "metadata": {},
   "outputs": [],
   "source": [
    "# Calculate how many games each team has left to play (La Liga has 38 total games)\n",
    "full_data[\"games_left\"] = 38 - full_data[\"mp\"]\n",
    "\n",
    "# Estimate the final number of points if each team keeps their current pace\n",
    "full_data[\"projected_pts\"] = full_data[\"pts\"] + full_data[\"games_left\"] * full_data[\"pts/mp\"]\n",
    "\n",
    "# Create a binary column to indicate if a team was champion that season (1 = champion, 0 = not)\n",
    "full_data[\"is_champion\"] = (full_data[\"rk\"] == 1).astype(int)"
   ]
  },
  {
   "cell_type": "code",
   "execution_count": 17,
   "metadata": {},
   "outputs": [
    {
     "data": {
      "text/html": [
       "<div>\n",
       "<style scoped>\n",
       "    .dataframe tbody tr th:only-of-type {\n",
       "        vertical-align: middle;\n",
       "    }\n",
       "\n",
       "    .dataframe tbody tr th {\n",
       "        vertical-align: top;\n",
       "    }\n",
       "\n",
       "    .dataframe thead th {\n",
       "        text-align: right;\n",
       "    }\n",
       "</style>\n",
       "<table border=\"1\" class=\"dataframe\">\n",
       "  <thead>\n",
       "    <tr style=\"text-align: right;\">\n",
       "      <th></th>\n",
       "      <th>rk</th>\n",
       "      <th>squad</th>\n",
       "      <th>mp</th>\n",
       "      <th>w</th>\n",
       "      <th>d</th>\n",
       "      <th>l</th>\n",
       "      <th>gf</th>\n",
       "      <th>ga</th>\n",
       "      <th>gd</th>\n",
       "      <th>pts</th>\n",
       "      <th>pts/mp</th>\n",
       "      <th>attendance</th>\n",
       "      <th>top_team_scorer</th>\n",
       "      <th>goalkeeper</th>\n",
       "      <th>notes</th>\n",
       "      <th>season</th>\n",
       "      <th>xg</th>\n",
       "      <th>xga</th>\n",
       "      <th>xgd</th>\n",
       "      <th>xgd/90</th>\n",
       "      <th>last_5</th>\n",
       "      <th>is_champion</th>\n",
       "      <th>games_left</th>\n",
       "      <th>projected_pts</th>\n",
       "    </tr>\n",
       "  </thead>\n",
       "  <tbody>\n",
       "    <tr>\n",
       "      <th>217</th>\n",
       "      <td>18</td>\n",
       "      <td>Leganés</td>\n",
       "      <td>28</td>\n",
       "      <td>6</td>\n",
       "      <td>9</td>\n",
       "      <td>13</td>\n",
       "      <td>26</td>\n",
       "      <td>43</td>\n",
       "      <td>-17</td>\n",
       "      <td>27</td>\n",
       "      <td>0.96</td>\n",
       "      <td>10964.0</td>\n",
       "      <td>Dani Raba - 5</td>\n",
       "      <td>Marko Dmitrović</td>\n",
       "      <td>NaN</td>\n",
       "      <td>2024</td>\n",
       "      <td>23.3</td>\n",
       "      <td>45.1</td>\n",
       "      <td>-21.9</td>\n",
       "      <td>-0.78</td>\n",
       "      <td>D L W L L</td>\n",
       "      <td>0</td>\n",
       "      <td>10</td>\n",
       "      <td>36.6</td>\n",
       "    </tr>\n",
       "    <tr>\n",
       "      <th>218</th>\n",
       "      <td>19</td>\n",
       "      <td>Las Palmas</td>\n",
       "      <td>28</td>\n",
       "      <td>6</td>\n",
       "      <td>7</td>\n",
       "      <td>15</td>\n",
       "      <td>32</td>\n",
       "      <td>47</td>\n",
       "      <td>-15</td>\n",
       "      <td>25</td>\n",
       "      <td>0.89</td>\n",
       "      <td>23616.0</td>\n",
       "      <td>Sandro Ramírez, Fábio Silva - 8</td>\n",
       "      <td>Jasper Cillessen</td>\n",
       "      <td>NaN</td>\n",
       "      <td>2024</td>\n",
       "      <td>27.2</td>\n",
       "      <td>51.8</td>\n",
       "      <td>-24.6</td>\n",
       "      <td>-0.88</td>\n",
       "      <td>L L D L D</td>\n",
       "      <td>0</td>\n",
       "      <td>10</td>\n",
       "      <td>33.9</td>\n",
       "    </tr>\n",
       "    <tr>\n",
       "      <th>219</th>\n",
       "      <td>20</td>\n",
       "      <td>Valladolid</td>\n",
       "      <td>28</td>\n",
       "      <td>4</td>\n",
       "      <td>4</td>\n",
       "      <td>20</td>\n",
       "      <td>18</td>\n",
       "      <td>63</td>\n",
       "      <td>-45</td>\n",
       "      <td>16</td>\n",
       "      <td>0.57</td>\n",
       "      <td>21121.0</td>\n",
       "      <td>Mamadou Sylla, Selim Amallah... - 3</td>\n",
       "      <td>Karl Jakob Hein</td>\n",
       "      <td>NaN</td>\n",
       "      <td>2024</td>\n",
       "      <td>23.9</td>\n",
       "      <td>49.6</td>\n",
       "      <td>-25.7</td>\n",
       "      <td>-0.92</td>\n",
       "      <td>L L D L L</td>\n",
       "      <td>0</td>\n",
       "      <td>10</td>\n",
       "      <td>21.7</td>\n",
       "    </tr>\n",
       "  </tbody>\n",
       "</table>\n",
       "</div>"
      ],
      "text/plain": [
       "     rk       squad  mp  w  d   l  gf  ga  gd  pts  pts/mp  attendance  \\\n",
       "217  18     Leganés  28  6  9  13  26  43 -17   27    0.96     10964.0   \n",
       "218  19  Las Palmas  28  6  7  15  32  47 -15   25    0.89     23616.0   \n",
       "219  20  Valladolid  28  4  4  20  18  63 -45   16    0.57     21121.0   \n",
       "\n",
       "                         top_team_scorer        goalkeeper notes  season  \\\n",
       "217                        Dani Raba - 5   Marko Dmitrović   NaN    2024   \n",
       "218      Sandro Ramírez, Fábio Silva - 8  Jasper Cillessen   NaN    2024   \n",
       "219  Mamadou Sylla, Selim Amallah... - 3   Karl Jakob Hein   NaN    2024   \n",
       "\n",
       "       xg   xga   xgd  xgd/90     last_5  is_champion  games_left  \\\n",
       "217  23.3  45.1 -21.9   -0.78  D L W L L            0          10   \n",
       "218  27.2  51.8 -24.6   -0.88  L L D L D            0          10   \n",
       "219  23.9  49.6 -25.7   -0.92  L L D L L            0          10   \n",
       "\n",
       "     projected_pts  \n",
       "217           36.6  \n",
       "218           33.9  \n",
       "219           21.7  "
      ]
     },
     "execution_count": 17,
     "metadata": {},
     "output_type": "execute_result"
    }
   ],
   "source": [
    "full_data.tail(3)"
   ]
  },
  {
   "cell_type": "code",
   "execution_count": 18,
   "metadata": {},
   "outputs": [],
   "source": [
    "# Define the features (inputs) the model will use\n",
    "features = [\"pts/mp\", \"gd\", \"w\", \"l\", \"projected_pts\"]\n",
    "\n",
    "# Create training data: all seasons before 2024\n",
    "df_train = full_data[full_data[\"season\"] < 2024]\n",
    "\n",
    "# Create testing data: only the 2024 season (current one)\n",
    "df_test = full_data[full_data[\"season\"] == 2024].copy()\n",
    "\n",
    "# Define feature matrix (X) and target variable (y)\n",
    "X_train = df_train[features]\n",
    "y_train = df_train[\"is_champion\"]\n",
    "X_test = df_test[features]"
   ]
  },
  {
   "cell_type": "code",
   "execution_count": 19,
   "metadata": {},
   "outputs": [
    {
     "data": {
      "text/html": [
       "<style>#sk-container-id-1 {color: black;}#sk-container-id-1 pre{padding: 0;}#sk-container-id-1 div.sk-toggleable {background-color: white;}#sk-container-id-1 label.sk-toggleable__label {cursor: pointer;display: block;width: 100%;margin-bottom: 0;padding: 0.3em;box-sizing: border-box;text-align: center;}#sk-container-id-1 label.sk-toggleable__label-arrow:before {content: \"▸\";float: left;margin-right: 0.25em;color: #696969;}#sk-container-id-1 label.sk-toggleable__label-arrow:hover:before {color: black;}#sk-container-id-1 div.sk-estimator:hover label.sk-toggleable__label-arrow:before {color: black;}#sk-container-id-1 div.sk-toggleable__content {max-height: 0;max-width: 0;overflow: hidden;text-align: left;background-color: #f0f8ff;}#sk-container-id-1 div.sk-toggleable__content pre {margin: 0.2em;color: black;border-radius: 0.25em;background-color: #f0f8ff;}#sk-container-id-1 input.sk-toggleable__control:checked~div.sk-toggleable__content {max-height: 200px;max-width: 100%;overflow: auto;}#sk-container-id-1 input.sk-toggleable__control:checked~label.sk-toggleable__label-arrow:before {content: \"▾\";}#sk-container-id-1 div.sk-estimator input.sk-toggleable__control:checked~label.sk-toggleable__label {background-color: #d4ebff;}#sk-container-id-1 div.sk-label input.sk-toggleable__control:checked~label.sk-toggleable__label {background-color: #d4ebff;}#sk-container-id-1 input.sk-hidden--visually {border: 0;clip: rect(1px 1px 1px 1px);clip: rect(1px, 1px, 1px, 1px);height: 1px;margin: -1px;overflow: hidden;padding: 0;position: absolute;width: 1px;}#sk-container-id-1 div.sk-estimator {font-family: monospace;background-color: #f0f8ff;border: 1px dotted black;border-radius: 0.25em;box-sizing: border-box;margin-bottom: 0.5em;}#sk-container-id-1 div.sk-estimator:hover {background-color: #d4ebff;}#sk-container-id-1 div.sk-parallel-item::after {content: \"\";width: 100%;border-bottom: 1px solid gray;flex-grow: 1;}#sk-container-id-1 div.sk-label:hover label.sk-toggleable__label {background-color: #d4ebff;}#sk-container-id-1 div.sk-serial::before {content: \"\";position: absolute;border-left: 1px solid gray;box-sizing: border-box;top: 0;bottom: 0;left: 50%;z-index: 0;}#sk-container-id-1 div.sk-serial {display: flex;flex-direction: column;align-items: center;background-color: white;padding-right: 0.2em;padding-left: 0.2em;position: relative;}#sk-container-id-1 div.sk-item {position: relative;z-index: 1;}#sk-container-id-1 div.sk-parallel {display: flex;align-items: stretch;justify-content: center;background-color: white;position: relative;}#sk-container-id-1 div.sk-item::before, #sk-container-id-1 div.sk-parallel-item::before {content: \"\";position: absolute;border-left: 1px solid gray;box-sizing: border-box;top: 0;bottom: 0;left: 50%;z-index: -1;}#sk-container-id-1 div.sk-parallel-item {display: flex;flex-direction: column;z-index: 1;position: relative;background-color: white;}#sk-container-id-1 div.sk-parallel-item:first-child::after {align-self: flex-end;width: 50%;}#sk-container-id-1 div.sk-parallel-item:last-child::after {align-self: flex-start;width: 50%;}#sk-container-id-1 div.sk-parallel-item:only-child::after {width: 0;}#sk-container-id-1 div.sk-dashed-wrapped {border: 1px dashed gray;margin: 0 0.4em 0.5em 0.4em;box-sizing: border-box;padding-bottom: 0.4em;background-color: white;}#sk-container-id-1 div.sk-label label {font-family: monospace;font-weight: bold;display: inline-block;line-height: 1.2em;}#sk-container-id-1 div.sk-label-container {text-align: center;}#sk-container-id-1 div.sk-container {/* jupyter's `normalize.less` sets `[hidden] { display: none; }` but bootstrap.min.css set `[hidden] { display: none !important; }` so we also need the `!important` here to be able to override the default hidden behavior on the sphinx rendered scikit-learn.org. See: https://github.com/scikit-learn/scikit-learn/issues/21755 */display: inline-block !important;position: relative;}#sk-container-id-1 div.sk-text-repr-fallback {display: none;}</style><div id=\"sk-container-id-1\" class=\"sk-top-container\"><div class=\"sk-text-repr-fallback\"><pre>RandomForestClassifier(n_estimators=200, random_state=42)</pre><b>In a Jupyter environment, please rerun this cell to show the HTML representation or trust the notebook. <br />On GitHub, the HTML representation is unable to render, please try loading this page with nbviewer.org.</b></div><div class=\"sk-container\" hidden><div class=\"sk-item\"><div class=\"sk-estimator sk-toggleable\"><input class=\"sk-toggleable__control sk-hidden--visually\" id=\"sk-estimator-id-1\" type=\"checkbox\" checked><label for=\"sk-estimator-id-1\" class=\"sk-toggleable__label sk-toggleable__label-arrow\">RandomForestClassifier</label><div class=\"sk-toggleable__content\"><pre>RandomForestClassifier(n_estimators=200, random_state=42)</pre></div></div></div></div></div>"
      ],
      "text/plain": [
       "RandomForestClassifier(n_estimators=200, random_state=42)"
      ]
     },
     "execution_count": 19,
     "metadata": {},
     "output_type": "execute_result"
    }
   ],
   "source": [
    "# Initialize the model with 200 trees and a fixed random state for reproducibility\n",
    "model = RandomForestClassifier(n_estimators=200, random_state=42)\n",
    "\n",
    "# Train the model on the training data\n",
    "model.fit(X_train, y_train)"
   ]
  },
  {
   "cell_type": "code",
   "execution_count": 20,
   "metadata": {},
   "outputs": [],
   "source": [
    "# Predict binary outcomes (0 or 1) on training set\n",
    "train_preds = model.predict(X_train)\n",
    "\n",
    "# Predict probabilities of being champion\n",
    "train_probs = model.predict_proba(X_train)[:, 1]  # Only the prob of class 1"
   ]
  },
  {
   "cell_type": "code",
   "execution_count": 21,
   "metadata": {},
   "outputs": [
    {
     "name": "stdout",
     "output_type": "stream",
     "text": [
      "\n",
      "Model Performance on Historical Data\n",
      "Accuracy: 1.000\n",
      "ROC AUC Score: 1.000\n",
      "Log Loss: 0.014\n",
      "\n",
      "Classification Report:\n",
      "              precision    recall  f1-score   support\n",
      "\n",
      "           0       1.00      1.00      1.00       190\n",
      "           1       1.00      1.00      1.00        10\n",
      "\n",
      "    accuracy                           1.00       200\n",
      "   macro avg       1.00      1.00      1.00       200\n",
      "weighted avg       1.00      1.00      1.00       200\n",
      "\n",
      "Confusion Matrix:\n",
      "[[190   0]\n",
      " [  0  10]]\n"
     ]
    }
   ],
   "source": [
    "# Compute accuracy\n",
    "accuracy = accuracy_score(y_train, train_preds)\n",
    "\n",
    "# Compute ROC AUC score\n",
    "roc_auc = roc_auc_score(y_train, train_probs)\n",
    "\n",
    "# Compute log loss (lower is better)\n",
    "logloss = log_loss(y_train, train_probs)\n",
    "\n",
    "# Print performance metrics\n",
    "print(f\"\\nModel Performance on Historical Data\")\n",
    "print(f\"Accuracy: {accuracy:.3f}\")\n",
    "print(f\"ROC AUC Score: {roc_auc:.3f}\")\n",
    "print(f\"Log Loss: {logloss:.3f}\")\n",
    "\n",
    "# Print detailed classification performance\n",
    "print(\"\\nClassification Report:\")\n",
    "print(classification_report(y_train, train_preds))\n",
    "\n",
    "# Show confusion matrix (true vs predicted values)\n",
    "print(\"Confusion Matrix:\")\n",
    "print(confusion_matrix(y_train, train_preds))"
   ]
  },
  {
   "cell_type": "markdown",
   "metadata": {},
   "source": [
    "- Precision: Out of all the times the model said \"yes\", how many times was it right?\n",
    "\n",
    "- Recall: Out of all the actual \"yes\" cases, how many did the model catch?\n",
    "\n",
    "- F1-score: A mix of precision and recall in one number.\n",
    "\n",
    "- Support: The number of actual cases for each class (label) in your data.\n",
    "\n",
    "- Confusion Matrix: A table that shows what the model got right and wrong"
   ]
  },
  {
   "cell_type": "code",
   "execution_count": 22,
   "metadata": {},
   "outputs": [],
   "source": [
    "# Predict probability of becoming champion\n",
    "df_test[\"win_probability\"] = model.predict_proba(X_test)[:, 1]\n"
   ]
  },
  {
   "cell_type": "code",
   "execution_count": 23,
   "metadata": {},
   "outputs": [
    {
     "data": {
      "text/html": [
       "<div>\n",
       "<style scoped>\n",
       "    .dataframe tbody tr th:only-of-type {\n",
       "        vertical-align: middle;\n",
       "    }\n",
       "\n",
       "    .dataframe tbody tr th {\n",
       "        vertical-align: top;\n",
       "    }\n",
       "\n",
       "    .dataframe thead th {\n",
       "        text-align: right;\n",
       "    }\n",
       "</style>\n",
       "<table border=\"1\" class=\"dataframe\">\n",
       "  <thead>\n",
       "    <tr style=\"text-align: right;\">\n",
       "      <th></th>\n",
       "      <th>rk</th>\n",
       "      <th>squad</th>\n",
       "      <th>mp</th>\n",
       "      <th>w</th>\n",
       "      <th>d</th>\n",
       "      <th>l</th>\n",
       "      <th>gf</th>\n",
       "      <th>ga</th>\n",
       "      <th>gd</th>\n",
       "      <th>pts</th>\n",
       "      <th>pts/mp</th>\n",
       "      <th>attendance</th>\n",
       "      <th>top_team_scorer</th>\n",
       "      <th>goalkeeper</th>\n",
       "      <th>notes</th>\n",
       "      <th>season</th>\n",
       "      <th>xg</th>\n",
       "      <th>xga</th>\n",
       "      <th>xgd</th>\n",
       "      <th>xgd/90</th>\n",
       "      <th>last_5</th>\n",
       "      <th>is_champion</th>\n",
       "      <th>games_left</th>\n",
       "      <th>projected_pts</th>\n",
       "      <th>win_probability</th>\n",
       "    </tr>\n",
       "  </thead>\n",
       "  <tbody>\n",
       "    <tr>\n",
       "      <th>200</th>\n",
       "      <td>1</td>\n",
       "      <td>Barcelona</td>\n",
       "      <td>27</td>\n",
       "      <td>19</td>\n",
       "      <td>3</td>\n",
       "      <td>5</td>\n",
       "      <td>75</td>\n",
       "      <td>27</td>\n",
       "      <td>48</td>\n",
       "      <td>60</td>\n",
       "      <td>2.22</td>\n",
       "      <td>45119.0</td>\n",
       "      <td>Robert Lewandowski - 22</td>\n",
       "      <td>Iñaki Peña</td>\n",
       "      <td>NaN</td>\n",
       "      <td>2024</td>\n",
       "      <td>64.9</td>\n",
       "      <td>29.9</td>\n",
       "      <td>35.0</td>\n",
       "      <td>1.30</td>\n",
       "      <td>W W W W W</td>\n",
       "      <td>1</td>\n",
       "      <td>11</td>\n",
       "      <td>84.42</td>\n",
       "      <td>0.085</td>\n",
       "    </tr>\n",
       "    <tr>\n",
       "      <th>201</th>\n",
       "      <td>2</td>\n",
       "      <td>Real Madrid</td>\n",
       "      <td>28</td>\n",
       "      <td>18</td>\n",
       "      <td>6</td>\n",
       "      <td>4</td>\n",
       "      <td>59</td>\n",
       "      <td>27</td>\n",
       "      <td>32</td>\n",
       "      <td>60</td>\n",
       "      <td>2.14</td>\n",
       "      <td>69474.0</td>\n",
       "      <td>Kylian Mbappé - 20</td>\n",
       "      <td>Thibaut Courtois</td>\n",
       "      <td>NaN</td>\n",
       "      <td>2024</td>\n",
       "      <td>53.0</td>\n",
       "      <td>28.7</td>\n",
       "      <td>24.4</td>\n",
       "      <td>0.87</td>\n",
       "      <td>D W L W W</td>\n",
       "      <td>0</td>\n",
       "      <td>10</td>\n",
       "      <td>81.40</td>\n",
       "      <td>0.015</td>\n",
       "    </tr>\n",
       "    <tr>\n",
       "      <th>202</th>\n",
       "      <td>3</td>\n",
       "      <td>Atlético Madrid</td>\n",
       "      <td>28</td>\n",
       "      <td>16</td>\n",
       "      <td>8</td>\n",
       "      <td>4</td>\n",
       "      <td>46</td>\n",
       "      <td>22</td>\n",
       "      <td>24</td>\n",
       "      <td>56</td>\n",
       "      <td>2.00</td>\n",
       "      <td>61970.0</td>\n",
       "      <td>Alexander Sørloth, Julián Álvarez - 11</td>\n",
       "      <td>Jan Oblak</td>\n",
       "      <td>NaN</td>\n",
       "      <td>2024</td>\n",
       "      <td>45.3</td>\n",
       "      <td>26.4</td>\n",
       "      <td>18.9</td>\n",
       "      <td>0.68</td>\n",
       "      <td>D W W L L</td>\n",
       "      <td>0</td>\n",
       "      <td>10</td>\n",
       "      <td>76.00</td>\n",
       "      <td>0.010</td>\n",
       "    </tr>\n",
       "    <tr>\n",
       "      <th>203</th>\n",
       "      <td>4</td>\n",
       "      <td>Athletic Club</td>\n",
       "      <td>28</td>\n",
       "      <td>14</td>\n",
       "      <td>10</td>\n",
       "      <td>4</td>\n",
       "      <td>46</td>\n",
       "      <td>24</td>\n",
       "      <td>22</td>\n",
       "      <td>52</td>\n",
       "      <td>1.86</td>\n",
       "      <td>48344.0</td>\n",
       "      <td>Oihan Sancet - 13</td>\n",
       "      <td>Julen Agirrezabala</td>\n",
       "      <td>NaN</td>\n",
       "      <td>2024</td>\n",
       "      <td>42.5</td>\n",
       "      <td>25.6</td>\n",
       "      <td>16.9</td>\n",
       "      <td>0.61</td>\n",
       "      <td>D W L D W</td>\n",
       "      <td>0</td>\n",
       "      <td>10</td>\n",
       "      <td>70.60</td>\n",
       "      <td>0.010</td>\n",
       "    </tr>\n",
       "    <tr>\n",
       "      <th>204</th>\n",
       "      <td>5</td>\n",
       "      <td>Villarreal</td>\n",
       "      <td>27</td>\n",
       "      <td>12</td>\n",
       "      <td>8</td>\n",
       "      <td>7</td>\n",
       "      <td>49</td>\n",
       "      <td>38</td>\n",
       "      <td>11</td>\n",
       "      <td>44</td>\n",
       "      <td>1.63</td>\n",
       "      <td>18544.0</td>\n",
       "      <td>Ayoze Pérez - 11</td>\n",
       "      <td>Diego Conde</td>\n",
       "      <td>NaN</td>\n",
       "      <td>2024</td>\n",
       "      <td>47.8</td>\n",
       "      <td>30.3</td>\n",
       "      <td>17.5</td>\n",
       "      <td>0.65</td>\n",
       "      <td>W D W L L</td>\n",
       "      <td>0</td>\n",
       "      <td>11</td>\n",
       "      <td>61.93</td>\n",
       "      <td>0.000</td>\n",
       "    </tr>\n",
       "  </tbody>\n",
       "</table>\n",
       "</div>"
      ],
      "text/plain": [
       "     rk            squad  mp   w   d  l  gf  ga  gd  pts  pts/mp  attendance  \\\n",
       "200   1        Barcelona  27  19   3  5  75  27  48   60    2.22     45119.0   \n",
       "201   2      Real Madrid  28  18   6  4  59  27  32   60    2.14     69474.0   \n",
       "202   3  Atlético Madrid  28  16   8  4  46  22  24   56    2.00     61970.0   \n",
       "203   4    Athletic Club  28  14  10  4  46  24  22   52    1.86     48344.0   \n",
       "204   5       Villarreal  27  12   8  7  49  38  11   44    1.63     18544.0   \n",
       "\n",
       "                            top_team_scorer          goalkeeper notes  season  \\\n",
       "200                 Robert Lewandowski - 22          Iñaki Peña   NaN    2024   \n",
       "201                      Kylian Mbappé - 20    Thibaut Courtois   NaN    2024   \n",
       "202  Alexander Sørloth, Julián Álvarez - 11           Jan Oblak   NaN    2024   \n",
       "203                       Oihan Sancet - 13  Julen Agirrezabala   NaN    2024   \n",
       "204                        Ayoze Pérez - 11         Diego Conde   NaN    2024   \n",
       "\n",
       "       xg   xga   xgd  xgd/90     last_5  is_champion  games_left  \\\n",
       "200  64.9  29.9  35.0    1.30  W W W W W            1          11   \n",
       "201  53.0  28.7  24.4    0.87  D W L W W            0          10   \n",
       "202  45.3  26.4  18.9    0.68  D W W L L            0          10   \n",
       "203  42.5  25.6  16.9    0.61  D W L D W            0          10   \n",
       "204  47.8  30.3  17.5    0.65  W D W L L            0          11   \n",
       "\n",
       "     projected_pts  win_probability  \n",
       "200          84.42            0.085  \n",
       "201          81.40            0.015  \n",
       "202          76.00            0.010  \n",
       "203          70.60            0.010  \n",
       "204          61.93            0.000  "
      ]
     },
     "execution_count": 23,
     "metadata": {},
     "output_type": "execute_result"
    }
   ],
   "source": [
    "df_test.head()"
   ]
  },
  {
   "cell_type": "code",
   "execution_count": 24,
   "metadata": {},
   "outputs": [],
   "source": [
    "# Normalize the probabilities so that all teams add up to 100%\n",
    "df_test[\"win_probability (%)\"] = df_test[\"win_probability\"] / df_test[\"win_probability\"].sum() * 100\n",
    "\n",
    "# Round the values for better readability\n",
    "df_test[\"win_probability (%)\"] = df_test[\"win_probability (%)\"].round(3)"
   ]
  },
  {
   "cell_type": "code",
   "execution_count": 25,
   "metadata": {},
   "outputs": [
    {
     "name": "stdout",
     "output_type": "stream",
     "text": [
      "\n",
      "Championship Win Probabilities (2024):\n"
     ]
    },
    {
     "data": {
      "text/html": [
       "<div>\n",
       "<style scoped>\n",
       "    .dataframe tbody tr th:only-of-type {\n",
       "        vertical-align: middle;\n",
       "    }\n",
       "\n",
       "    .dataframe tbody tr th {\n",
       "        vertical-align: top;\n",
       "    }\n",
       "\n",
       "    .dataframe thead th {\n",
       "        text-align: right;\n",
       "    }\n",
       "</style>\n",
       "<table border=\"1\" class=\"dataframe\">\n",
       "  <thead>\n",
       "    <tr style=\"text-align: right;\">\n",
       "      <th></th>\n",
       "      <th>squad</th>\n",
       "      <th>pts</th>\n",
       "      <th>projected_pts</th>\n",
       "      <th>pts/mp</th>\n",
       "      <th>gd</th>\n",
       "      <th>games_left</th>\n",
       "      <th>win_probability (%)</th>\n",
       "    </tr>\n",
       "  </thead>\n",
       "  <tbody>\n",
       "    <tr>\n",
       "      <th>200</th>\n",
       "      <td>Barcelona</td>\n",
       "      <td>60</td>\n",
       "      <td>84.42</td>\n",
       "      <td>2.22</td>\n",
       "      <td>48</td>\n",
       "      <td>11</td>\n",
       "      <td>70.833</td>\n",
       "    </tr>\n",
       "    <tr>\n",
       "      <th>201</th>\n",
       "      <td>Real Madrid</td>\n",
       "      <td>60</td>\n",
       "      <td>81.40</td>\n",
       "      <td>2.14</td>\n",
       "      <td>32</td>\n",
       "      <td>10</td>\n",
       "      <td>12.500</td>\n",
       "    </tr>\n",
       "    <tr>\n",
       "      <th>202</th>\n",
       "      <td>Atlético Madrid</td>\n",
       "      <td>56</td>\n",
       "      <td>76.00</td>\n",
       "      <td>2.00</td>\n",
       "      <td>24</td>\n",
       "      <td>10</td>\n",
       "      <td>8.333</td>\n",
       "    </tr>\n",
       "    <tr>\n",
       "      <th>203</th>\n",
       "      <td>Athletic Club</td>\n",
       "      <td>52</td>\n",
       "      <td>70.60</td>\n",
       "      <td>1.86</td>\n",
       "      <td>22</td>\n",
       "      <td>10</td>\n",
       "      <td>8.333</td>\n",
       "    </tr>\n",
       "    <tr>\n",
       "      <th>204</th>\n",
       "      <td>Villarreal</td>\n",
       "      <td>44</td>\n",
       "      <td>61.93</td>\n",
       "      <td>1.63</td>\n",
       "      <td>11</td>\n",
       "      <td>11</td>\n",
       "      <td>0.000</td>\n",
       "    </tr>\n",
       "    <tr>\n",
       "      <th>205</th>\n",
       "      <td>Betis</td>\n",
       "      <td>44</td>\n",
       "      <td>59.70</td>\n",
       "      <td>1.57</td>\n",
       "      <td>3</td>\n",
       "      <td>10</td>\n",
       "      <td>0.000</td>\n",
       "    </tr>\n",
       "    <tr>\n",
       "      <th>206</th>\n",
       "      <td>Mallorca</td>\n",
       "      <td>40</td>\n",
       "      <td>54.30</td>\n",
       "      <td>1.43</td>\n",
       "      <td>-6</td>\n",
       "      <td>10</td>\n",
       "      <td>0.000</td>\n",
       "    </tr>\n",
       "    <tr>\n",
       "      <th>207</th>\n",
       "      <td>Celta Vigo</td>\n",
       "      <td>39</td>\n",
       "      <td>52.90</td>\n",
       "      <td>1.39</td>\n",
       "      <td>0</td>\n",
       "      <td>10</td>\n",
       "      <td>0.000</td>\n",
       "    </tr>\n",
       "    <tr>\n",
       "      <th>208</th>\n",
       "      <td>Rayo Vallecano</td>\n",
       "      <td>37</td>\n",
       "      <td>50.20</td>\n",
       "      <td>1.32</td>\n",
       "      <td>0</td>\n",
       "      <td>10</td>\n",
       "      <td>0.000</td>\n",
       "    </tr>\n",
       "    <tr>\n",
       "      <th>210</th>\n",
       "      <td>Getafe</td>\n",
       "      <td>36</td>\n",
       "      <td>48.90</td>\n",
       "      <td>1.29</td>\n",
       "      <td>2</td>\n",
       "      <td>10</td>\n",
       "      <td>0.000</td>\n",
       "    </tr>\n",
       "    <tr>\n",
       "      <th>209</th>\n",
       "      <td>Sevilla</td>\n",
       "      <td>36</td>\n",
       "      <td>48.90</td>\n",
       "      <td>1.29</td>\n",
       "      <td>-5</td>\n",
       "      <td>10</td>\n",
       "      <td>0.000</td>\n",
       "    </tr>\n",
       "    <tr>\n",
       "      <th>211</th>\n",
       "      <td>Real Sociedad</td>\n",
       "      <td>35</td>\n",
       "      <td>47.50</td>\n",
       "      <td>1.25</td>\n",
       "      <td>-5</td>\n",
       "      <td>10</td>\n",
       "      <td>0.000</td>\n",
       "    </tr>\n",
       "    <tr>\n",
       "      <th>213</th>\n",
       "      <td>Osasuna</td>\n",
       "      <td>33</td>\n",
       "      <td>46.42</td>\n",
       "      <td>1.22</td>\n",
       "      <td>-6</td>\n",
       "      <td>11</td>\n",
       "      <td>0.000</td>\n",
       "    </tr>\n",
       "    <tr>\n",
       "      <th>212</th>\n",
       "      <td>Girona</td>\n",
       "      <td>34</td>\n",
       "      <td>46.10</td>\n",
       "      <td>1.21</td>\n",
       "      <td>-5</td>\n",
       "      <td>10</td>\n",
       "      <td>0.000</td>\n",
       "    </tr>\n",
       "    <tr>\n",
       "      <th>214</th>\n",
       "      <td>Espanyol</td>\n",
       "      <td>28</td>\n",
       "      <td>39.44</td>\n",
       "      <td>1.04</td>\n",
       "      <td>-13</td>\n",
       "      <td>11</td>\n",
       "      <td>0.000</td>\n",
       "    </tr>\n",
       "    <tr>\n",
       "      <th>215</th>\n",
       "      <td>Valencia</td>\n",
       "      <td>28</td>\n",
       "      <td>38.00</td>\n",
       "      <td>1.00</td>\n",
       "      <td>-15</td>\n",
       "      <td>10</td>\n",
       "      <td>0.000</td>\n",
       "    </tr>\n",
       "    <tr>\n",
       "      <th>216</th>\n",
       "      <td>Alavés</td>\n",
       "      <td>27</td>\n",
       "      <td>36.60</td>\n",
       "      <td>0.96</td>\n",
       "      <td>-10</td>\n",
       "      <td>10</td>\n",
       "      <td>0.000</td>\n",
       "    </tr>\n",
       "    <tr>\n",
       "      <th>217</th>\n",
       "      <td>Leganés</td>\n",
       "      <td>27</td>\n",
       "      <td>36.60</td>\n",
       "      <td>0.96</td>\n",
       "      <td>-17</td>\n",
       "      <td>10</td>\n",
       "      <td>0.000</td>\n",
       "    </tr>\n",
       "    <tr>\n",
       "      <th>218</th>\n",
       "      <td>Las Palmas</td>\n",
       "      <td>25</td>\n",
       "      <td>33.90</td>\n",
       "      <td>0.89</td>\n",
       "      <td>-15</td>\n",
       "      <td>10</td>\n",
       "      <td>0.000</td>\n",
       "    </tr>\n",
       "    <tr>\n",
       "      <th>219</th>\n",
       "      <td>Valladolid</td>\n",
       "      <td>16</td>\n",
       "      <td>21.70</td>\n",
       "      <td>0.57</td>\n",
       "      <td>-45</td>\n",
       "      <td>10</td>\n",
       "      <td>0.000</td>\n",
       "    </tr>\n",
       "  </tbody>\n",
       "</table>\n",
       "</div>"
      ],
      "text/plain": [
       "               squad  pts  projected_pts  pts/mp  gd  games_left  \\\n",
       "200        Barcelona   60          84.42    2.22  48          11   \n",
       "201      Real Madrid   60          81.40    2.14  32          10   \n",
       "202  Atlético Madrid   56          76.00    2.00  24          10   \n",
       "203    Athletic Club   52          70.60    1.86  22          10   \n",
       "204       Villarreal   44          61.93    1.63  11          11   \n",
       "205            Betis   44          59.70    1.57   3          10   \n",
       "206         Mallorca   40          54.30    1.43  -6          10   \n",
       "207       Celta Vigo   39          52.90    1.39   0          10   \n",
       "208   Rayo Vallecano   37          50.20    1.32   0          10   \n",
       "210           Getafe   36          48.90    1.29   2          10   \n",
       "209          Sevilla   36          48.90    1.29  -5          10   \n",
       "211    Real Sociedad   35          47.50    1.25  -5          10   \n",
       "213          Osasuna   33          46.42    1.22  -6          11   \n",
       "212           Girona   34          46.10    1.21  -5          10   \n",
       "214         Espanyol   28          39.44    1.04 -13          11   \n",
       "215         Valencia   28          38.00    1.00 -15          10   \n",
       "216           Alavés   27          36.60    0.96 -10          10   \n",
       "217          Leganés   27          36.60    0.96 -17          10   \n",
       "218       Las Palmas   25          33.90    0.89 -15          10   \n",
       "219       Valladolid   16          21.70    0.57 -45          10   \n",
       "\n",
       "     win_probability (%)  \n",
       "200               70.833  \n",
       "201               12.500  \n",
       "202                8.333  \n",
       "203                8.333  \n",
       "204                0.000  \n",
       "205                0.000  \n",
       "206                0.000  \n",
       "207                0.000  \n",
       "208                0.000  \n",
       "210                0.000  \n",
       "209                0.000  \n",
       "211                0.000  \n",
       "213                0.000  \n",
       "212                0.000  \n",
       "214                0.000  \n",
       "215                0.000  \n",
       "216                0.000  \n",
       "217                0.000  \n",
       "218                0.000  \n",
       "219                0.000  "
      ]
     },
     "execution_count": 25,
     "metadata": {},
     "output_type": "execute_result"
    }
   ],
   "source": [
    "# Sort the test DataFrame by win probability descending\n",
    "df_test = df_test.sort_values(\"projected_pts\", ascending=False)\n",
    "print(\"\\nChampionship Win Probabilities (2024):\")\n",
    "df_test[[\"squad\", \"pts\", \"projected_pts\", \"pts/mp\", \"gd\", \"games_left\", \"win_probability (%)\"]]"
   ]
  },
  {
   "cell_type": "code",
   "execution_count": 26,
   "metadata": {},
   "outputs": [
    {
     "data": {
      "application/vnd.plotly.v1+json": {
       "config": {
        "plotlyServerURL": "https://plot.ly"
       },
       "data": [
        {
         "alignmentgroup": "True",
         "hovertemplate": "Team=%{x}<br>Win Probability (%)=%{y}<extra></extra>",
         "legendgroup": "",
         "marker": {
          "color": "#1f77b4",
          "pattern": {
           "shape": ""
          }
         },
         "name": "",
         "offsetgroup": "",
         "orientation": "v",
         "showlegend": false,
         "textposition": "auto",
         "type": "bar",
         "x": [
          "Barcelona",
          "Real Madrid",
          "Atlético Madrid",
          "Athletic Club",
          "Villarreal",
          "Betis",
          "Mallorca",
          "Celta Vigo",
          "Rayo Vallecano",
          "Sevilla",
          "Getafe",
          "Real Sociedad",
          "Osasuna",
          "Girona",
          "Espanyol",
          "Valencia",
          "Alavés",
          "Leganés",
          "Las Palmas",
          "Valladolid"
         ],
         "xaxis": "x",
         "y": [
          70.833,
          12.5,
          8.333,
          8.333,
          0,
          0,
          0,
          0,
          0,
          0,
          0,
          0,
          0,
          0,
          0,
          0,
          0,
          0,
          0,
          0
         ],
         "yaxis": "y"
        }
       ],
       "layout": {
        "bargap": 0.3,
        "barmode": "relative",
        "legend": {
         "tracegroupgap": 0
        },
        "template": {
         "data": {
          "bar": [
           {
            "error_x": {
             "color": "#2a3f5f"
            },
            "error_y": {
             "color": "#2a3f5f"
            },
            "marker": {
             "line": {
              "color": "white",
              "width": 0.5
             },
             "pattern": {
              "fillmode": "overlay",
              "size": 10,
              "solidity": 0.2
             }
            },
            "type": "bar"
           }
          ],
          "barpolar": [
           {
            "marker": {
             "line": {
              "color": "white",
              "width": 0.5
             },
             "pattern": {
              "fillmode": "overlay",
              "size": 10,
              "solidity": 0.2
             }
            },
            "type": "barpolar"
           }
          ],
          "carpet": [
           {
            "aaxis": {
             "endlinecolor": "#2a3f5f",
             "gridcolor": "#C8D4E3",
             "linecolor": "#C8D4E3",
             "minorgridcolor": "#C8D4E3",
             "startlinecolor": "#2a3f5f"
            },
            "baxis": {
             "endlinecolor": "#2a3f5f",
             "gridcolor": "#C8D4E3",
             "linecolor": "#C8D4E3",
             "minorgridcolor": "#C8D4E3",
             "startlinecolor": "#2a3f5f"
            },
            "type": "carpet"
           }
          ],
          "choropleth": [
           {
            "colorbar": {
             "outlinewidth": 0,
             "ticks": ""
            },
            "type": "choropleth"
           }
          ],
          "contour": [
           {
            "colorbar": {
             "outlinewidth": 0,
             "ticks": ""
            },
            "colorscale": [
             [
              0,
              "#0d0887"
             ],
             [
              0.1111111111111111,
              "#46039f"
             ],
             [
              0.2222222222222222,
              "#7201a8"
             ],
             [
              0.3333333333333333,
              "#9c179e"
             ],
             [
              0.4444444444444444,
              "#bd3786"
             ],
             [
              0.5555555555555556,
              "#d8576b"
             ],
             [
              0.6666666666666666,
              "#ed7953"
             ],
             [
              0.7777777777777778,
              "#fb9f3a"
             ],
             [
              0.8888888888888888,
              "#fdca26"
             ],
             [
              1,
              "#f0f921"
             ]
            ],
            "type": "contour"
           }
          ],
          "contourcarpet": [
           {
            "colorbar": {
             "outlinewidth": 0,
             "ticks": ""
            },
            "type": "contourcarpet"
           }
          ],
          "heatmap": [
           {
            "colorbar": {
             "outlinewidth": 0,
             "ticks": ""
            },
            "colorscale": [
             [
              0,
              "#0d0887"
             ],
             [
              0.1111111111111111,
              "#46039f"
             ],
             [
              0.2222222222222222,
              "#7201a8"
             ],
             [
              0.3333333333333333,
              "#9c179e"
             ],
             [
              0.4444444444444444,
              "#bd3786"
             ],
             [
              0.5555555555555556,
              "#d8576b"
             ],
             [
              0.6666666666666666,
              "#ed7953"
             ],
             [
              0.7777777777777778,
              "#fb9f3a"
             ],
             [
              0.8888888888888888,
              "#fdca26"
             ],
             [
              1,
              "#f0f921"
             ]
            ],
            "type": "heatmap"
           }
          ],
          "heatmapgl": [
           {
            "colorbar": {
             "outlinewidth": 0,
             "ticks": ""
            },
            "colorscale": [
             [
              0,
              "#0d0887"
             ],
             [
              0.1111111111111111,
              "#46039f"
             ],
             [
              0.2222222222222222,
              "#7201a8"
             ],
             [
              0.3333333333333333,
              "#9c179e"
             ],
             [
              0.4444444444444444,
              "#bd3786"
             ],
             [
              0.5555555555555556,
              "#d8576b"
             ],
             [
              0.6666666666666666,
              "#ed7953"
             ],
             [
              0.7777777777777778,
              "#fb9f3a"
             ],
             [
              0.8888888888888888,
              "#fdca26"
             ],
             [
              1,
              "#f0f921"
             ]
            ],
            "type": "heatmapgl"
           }
          ],
          "histogram": [
           {
            "marker": {
             "pattern": {
              "fillmode": "overlay",
              "size": 10,
              "solidity": 0.2
             }
            },
            "type": "histogram"
           }
          ],
          "histogram2d": [
           {
            "colorbar": {
             "outlinewidth": 0,
             "ticks": ""
            },
            "colorscale": [
             [
              0,
              "#0d0887"
             ],
             [
              0.1111111111111111,
              "#46039f"
             ],
             [
              0.2222222222222222,
              "#7201a8"
             ],
             [
              0.3333333333333333,
              "#9c179e"
             ],
             [
              0.4444444444444444,
              "#bd3786"
             ],
             [
              0.5555555555555556,
              "#d8576b"
             ],
             [
              0.6666666666666666,
              "#ed7953"
             ],
             [
              0.7777777777777778,
              "#fb9f3a"
             ],
             [
              0.8888888888888888,
              "#fdca26"
             ],
             [
              1,
              "#f0f921"
             ]
            ],
            "type": "histogram2d"
           }
          ],
          "histogram2dcontour": [
           {
            "colorbar": {
             "outlinewidth": 0,
             "ticks": ""
            },
            "colorscale": [
             [
              0,
              "#0d0887"
             ],
             [
              0.1111111111111111,
              "#46039f"
             ],
             [
              0.2222222222222222,
              "#7201a8"
             ],
             [
              0.3333333333333333,
              "#9c179e"
             ],
             [
              0.4444444444444444,
              "#bd3786"
             ],
             [
              0.5555555555555556,
              "#d8576b"
             ],
             [
              0.6666666666666666,
              "#ed7953"
             ],
             [
              0.7777777777777778,
              "#fb9f3a"
             ],
             [
              0.8888888888888888,
              "#fdca26"
             ],
             [
              1,
              "#f0f921"
             ]
            ],
            "type": "histogram2dcontour"
           }
          ],
          "mesh3d": [
           {
            "colorbar": {
             "outlinewidth": 0,
             "ticks": ""
            },
            "type": "mesh3d"
           }
          ],
          "parcoords": [
           {
            "line": {
             "colorbar": {
              "outlinewidth": 0,
              "ticks": ""
             }
            },
            "type": "parcoords"
           }
          ],
          "pie": [
           {
            "automargin": true,
            "type": "pie"
           }
          ],
          "scatter": [
           {
            "fillpattern": {
             "fillmode": "overlay",
             "size": 10,
             "solidity": 0.2
            },
            "type": "scatter"
           }
          ],
          "scatter3d": [
           {
            "line": {
             "colorbar": {
              "outlinewidth": 0,
              "ticks": ""
             }
            },
            "marker": {
             "colorbar": {
              "outlinewidth": 0,
              "ticks": ""
             }
            },
            "type": "scatter3d"
           }
          ],
          "scattercarpet": [
           {
            "marker": {
             "colorbar": {
              "outlinewidth": 0,
              "ticks": ""
             }
            },
            "type": "scattercarpet"
           }
          ],
          "scattergeo": [
           {
            "marker": {
             "colorbar": {
              "outlinewidth": 0,
              "ticks": ""
             }
            },
            "type": "scattergeo"
           }
          ],
          "scattergl": [
           {
            "marker": {
             "colorbar": {
              "outlinewidth": 0,
              "ticks": ""
             }
            },
            "type": "scattergl"
           }
          ],
          "scattermapbox": [
           {
            "marker": {
             "colorbar": {
              "outlinewidth": 0,
              "ticks": ""
             }
            },
            "type": "scattermapbox"
           }
          ],
          "scatterpolar": [
           {
            "marker": {
             "colorbar": {
              "outlinewidth": 0,
              "ticks": ""
             }
            },
            "type": "scatterpolar"
           }
          ],
          "scatterpolargl": [
           {
            "marker": {
             "colorbar": {
              "outlinewidth": 0,
              "ticks": ""
             }
            },
            "type": "scatterpolargl"
           }
          ],
          "scatterternary": [
           {
            "marker": {
             "colorbar": {
              "outlinewidth": 0,
              "ticks": ""
             }
            },
            "type": "scatterternary"
           }
          ],
          "surface": [
           {
            "colorbar": {
             "outlinewidth": 0,
             "ticks": ""
            },
            "colorscale": [
             [
              0,
              "#0d0887"
             ],
             [
              0.1111111111111111,
              "#46039f"
             ],
             [
              0.2222222222222222,
              "#7201a8"
             ],
             [
              0.3333333333333333,
              "#9c179e"
             ],
             [
              0.4444444444444444,
              "#bd3786"
             ],
             [
              0.5555555555555556,
              "#d8576b"
             ],
             [
              0.6666666666666666,
              "#ed7953"
             ],
             [
              0.7777777777777778,
              "#fb9f3a"
             ],
             [
              0.8888888888888888,
              "#fdca26"
             ],
             [
              1,
              "#f0f921"
             ]
            ],
            "type": "surface"
           }
          ],
          "table": [
           {
            "cells": {
             "fill": {
              "color": "#EBF0F8"
             },
             "line": {
              "color": "white"
             }
            },
            "header": {
             "fill": {
              "color": "#C8D4E3"
             },
             "line": {
              "color": "white"
             }
            },
            "type": "table"
           }
          ]
         },
         "layout": {
          "annotationdefaults": {
           "arrowcolor": "#2a3f5f",
           "arrowhead": 0,
           "arrowwidth": 1
          },
          "autotypenumbers": "strict",
          "coloraxis": {
           "colorbar": {
            "outlinewidth": 0,
            "ticks": ""
           }
          },
          "colorscale": {
           "diverging": [
            [
             0,
             "#8e0152"
            ],
            [
             0.1,
             "#c51b7d"
            ],
            [
             0.2,
             "#de77ae"
            ],
            [
             0.3,
             "#f1b6da"
            ],
            [
             0.4,
             "#fde0ef"
            ],
            [
             0.5,
             "#f7f7f7"
            ],
            [
             0.6,
             "#e6f5d0"
            ],
            [
             0.7,
             "#b8e186"
            ],
            [
             0.8,
             "#7fbc41"
            ],
            [
             0.9,
             "#4d9221"
            ],
            [
             1,
             "#276419"
            ]
           ],
           "sequential": [
            [
             0,
             "#0d0887"
            ],
            [
             0.1111111111111111,
             "#46039f"
            ],
            [
             0.2222222222222222,
             "#7201a8"
            ],
            [
             0.3333333333333333,
             "#9c179e"
            ],
            [
             0.4444444444444444,
             "#bd3786"
            ],
            [
             0.5555555555555556,
             "#d8576b"
            ],
            [
             0.6666666666666666,
             "#ed7953"
            ],
            [
             0.7777777777777778,
             "#fb9f3a"
            ],
            [
             0.8888888888888888,
             "#fdca26"
            ],
            [
             1,
             "#f0f921"
            ]
           ],
           "sequentialminus": [
            [
             0,
             "#0d0887"
            ],
            [
             0.1111111111111111,
             "#46039f"
            ],
            [
             0.2222222222222222,
             "#7201a8"
            ],
            [
             0.3333333333333333,
             "#9c179e"
            ],
            [
             0.4444444444444444,
             "#bd3786"
            ],
            [
             0.5555555555555556,
             "#d8576b"
            ],
            [
             0.6666666666666666,
             "#ed7953"
            ],
            [
             0.7777777777777778,
             "#fb9f3a"
            ],
            [
             0.8888888888888888,
             "#fdca26"
            ],
            [
             1,
             "#f0f921"
            ]
           ]
          },
          "colorway": [
           "#636efa",
           "#EF553B",
           "#00cc96",
           "#ab63fa",
           "#FFA15A",
           "#19d3f3",
           "#FF6692",
           "#B6E880",
           "#FF97FF",
           "#FECB52"
          ],
          "font": {
           "color": "#2a3f5f"
          },
          "geo": {
           "bgcolor": "white",
           "lakecolor": "white",
           "landcolor": "white",
           "showlakes": true,
           "showland": true,
           "subunitcolor": "#C8D4E3"
          },
          "hoverlabel": {
           "align": "left"
          },
          "hovermode": "closest",
          "mapbox": {
           "style": "light"
          },
          "paper_bgcolor": "white",
          "plot_bgcolor": "white",
          "polar": {
           "angularaxis": {
            "gridcolor": "#EBF0F8",
            "linecolor": "#EBF0F8",
            "ticks": ""
           },
           "bgcolor": "white",
           "radialaxis": {
            "gridcolor": "#EBF0F8",
            "linecolor": "#EBF0F8",
            "ticks": ""
           }
          },
          "scene": {
           "xaxis": {
            "backgroundcolor": "white",
            "gridcolor": "#DFE8F3",
            "gridwidth": 2,
            "linecolor": "#EBF0F8",
            "showbackground": true,
            "ticks": "",
            "zerolinecolor": "#EBF0F8"
           },
           "yaxis": {
            "backgroundcolor": "white",
            "gridcolor": "#DFE8F3",
            "gridwidth": 2,
            "linecolor": "#EBF0F8",
            "showbackground": true,
            "ticks": "",
            "zerolinecolor": "#EBF0F8"
           },
           "zaxis": {
            "backgroundcolor": "white",
            "gridcolor": "#DFE8F3",
            "gridwidth": 2,
            "linecolor": "#EBF0F8",
            "showbackground": true,
            "ticks": "",
            "zerolinecolor": "#EBF0F8"
           }
          },
          "shapedefaults": {
           "line": {
            "color": "#2a3f5f"
           }
          },
          "ternary": {
           "aaxis": {
            "gridcolor": "#DFE8F3",
            "linecolor": "#A2B1C6",
            "ticks": ""
           },
           "baxis": {
            "gridcolor": "#DFE8F3",
            "linecolor": "#A2B1C6",
            "ticks": ""
           },
           "bgcolor": "white",
           "caxis": {
            "gridcolor": "#DFE8F3",
            "linecolor": "#A2B1C6",
            "ticks": ""
           }
          },
          "title": {
           "x": 0.05
          },
          "xaxis": {
           "automargin": true,
           "gridcolor": "#EBF0F8",
           "linecolor": "#EBF0F8",
           "ticks": "",
           "title": {
            "standoff": 15
           },
           "zerolinecolor": "#EBF0F8",
           "zerolinewidth": 2
          },
          "yaxis": {
           "automargin": true,
           "gridcolor": "#EBF0F8",
           "linecolor": "#EBF0F8",
           "ticks": "",
           "title": {
            "standoff": 15
           },
           "zerolinecolor": "#EBF0F8",
           "zerolinewidth": 2
          }
         }
        },
        "title": {
         "text": "Championship Win Probabilities (2024 Season)",
         "x": 0.5
        },
        "xaxis": {
         "anchor": "y",
         "domain": [
          0,
          1
         ],
         "tickangle": -45,
         "title": {
          "text": "Team"
         }
        },
        "yaxis": {
         "anchor": "x",
         "domain": [
          0,
          1
         ],
         "title": {
          "text": "Win Probability (%)"
         }
        }
       }
      }
     },
     "metadata": {},
     "output_type": "display_data"
    }
   ],
   "source": [
    "import plotly.express as px\n",
    "\n",
    "# Sort by projected_pts (descending)\n",
    "df_test_sorted = df_test.sort_values(\"projected_pts\", ascending=False)\n",
    "\n",
    "# Plot bar chart\n",
    "fig = px.bar(\n",
    "    df_test_sorted,\n",
    "    x=\"squad\",\n",
    "    y=\"win_probability (%)\",\n",
    "    color_discrete_sequence=[\"#1f77b4\"],\n",
    "    title=\"Championship Win Probabilities (2024 Season)\",\n",
    "    labels={\"squad\": \"Team\", \"win_probability (%)\": \"Win Probability (%)\"},\n",
    "    template=\"plotly_white\"\n",
    ")\n",
    "\n",
    "# Improve layout\n",
    "fig.update_layout(\n",
    "    xaxis_title=\"Team\",\n",
    "    yaxis_title=\"Win Probability (%)\",\n",
    "    xaxis_tickangle=-45,\n",
    "    bargap=0.3,\n",
    "    title_x=0.5\n",
    ")\n",
    "\n",
    "fig.show()"
   ]
  },
  {
   "cell_type": "markdown",
   "metadata": {},
   "source": [
    "- Based on our analysis Barcelona has 70.8% chances of being the champion of Spain followed by Real Madrid 12.5%, ATM 8%, Atletic 8%.\n",
    "- The 7th position for the conference league is most like gonna be Mallorca (based on Projected points)\n",
    "- The relegated teams will most likely be 'Valladolid' and 'Las Palmas'"
   ]
  },
  {
   "cell_type": "code",
   "execution_count": null,
   "metadata": {},
   "outputs": [],
   "source": []
  }
 ],
 "metadata": {
  "kernelspec": {
   "display_name": "base",
   "language": "python",
   "name": "python3"
  },
  "language_info": {
   "codemirror_mode": {
    "name": "ipython",
    "version": 3
   },
   "file_extension": ".py",
   "mimetype": "text/x-python",
   "name": "python",
   "nbconvert_exporter": "python",
   "pygments_lexer": "ipython3",
   "version": "3.10.14"
  }
 },
 "nbformat": 4,
 "nbformat_minor": 2
}
